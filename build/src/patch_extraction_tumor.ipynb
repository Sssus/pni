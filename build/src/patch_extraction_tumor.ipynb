{
 "cells": [
  {
   "cell_type": "code",
   "execution_count": 1,
   "metadata": {},
   "outputs": [],
   "source": [
    "import os, glob, openslide\n",
    "from util import processor\n",
    "from cfg import init_params\n",
    "import multiprocessing"
   ]
  },
  {
   "cell_type": "code",
   "execution_count": 2,
   "metadata": {},
   "outputs": [],
   "source": [
    "annotation_base = '/home/centos/new_data/annotation_tumor/'\n",
    "slide_base = '/home/centos/new_data/paip/'"
   ]
  },
  {
   "cell_type": "code",
   "execution_count": 3,
   "metadata": {},
   "outputs": [],
   "source": [
    "def extract(init_params):\n",
    "    init_params.update({'patch_dir':'./data/patch/tumor/'})\n",
    "    slide = processor(init_params)\n",
    "    slide.get_patch(save=True,tool='asap',feature='global')"
   ]
  },
  {
   "cell_type": "code",
   "execution_count": null,
   "metadata": {},
   "outputs": [],
   "source": [
    "slide = "
   ]
  },
  {
   "cell_type": "code",
   "execution_count": 4,
   "metadata": {},
   "outputs": [
    {
     "name": "stdout",
     "output_type": "stream",
     "text": [
      "SIZE_PATCH_0 : 1024 SIZE_PATCH_2 : 64 SIZE_PATCH_ORIGIN : 514.1504\n",
      "dict_keys(['p_1', 'p_3', 'p_4', 'p_2', 'p_6', 'p_5'])\n",
      "Min x : 301 Min y : 215 Max x : 2484 Max y : 1965\n",
      "Slide Width : 2183 Slide Height : 1750 Sliding : 512\n"
     ]
    },
    {
     "name": "stderr",
     "output_type": "stream",
     "text": [
      "\r",
      "  0%|          | 0/53 [00:00<?, ?it/s]"
     ]
    },
    {
     "name": "stdout",
     "output_type": "stream",
     "text": [
      "SIZE_PATCH_0 : 1024 SIZE_PATCH_2 : 64 SIZE_PATCH_ORIGIN : 514.1504\n",
      "dict_keys(['p_1', 'p_3', 'p_4', 'p_2', 'p_6', 'p_5'])\n",
      "Min x : 265 Min y : 289 Max x : 2437 Max y : 2099\n",
      "Slide Width : 2172 Slide Height : 1810 Sliding : 512\n"
     ]
    },
    {
     "name": "stderr",
     "output_type": "stream",
     "text": [
      "\r",
      "  0%|          | 0/55 [00:00<?, ?it/s]"
     ]
    },
    {
     "name": "stdout",
     "output_type": "stream",
     "text": [
      "SIZE_PATCH_0 : 1024 SIZE_PATCH_2 : 64 SIZE_PATCH_ORIGIN : 514.3552\n",
      "dict_keys(['p_1', 'p_3', 'p_4', 'p_2', 'p_6', 'p_5'])\n",
      "SIZE_PATCH_0 : 1024 SIZE_PATCH_2 : 64 SIZE_PATCH_ORIGIN : 514.1504\n",
      "dict_keys(['p_1', 'p_3', 'p_4', 'p_2', 'p_6', 'p_5'])\n",
      "Min x : 306 Min y : 241 Max x : 2550 Max y : 2056\n",
      "Slide Width : 2244 Slide Height : 1815 Sliding : 512\n"
     ]
    },
    {
     "name": "stderr",
     "output_type": "stream",
     "text": [
      "\r",
      "  0%|          | 0/55 [00:00<?, ?it/s]"
     ]
    },
    {
     "name": "stdout",
     "output_type": "stream",
     "text": [
      "Min x : 141 Min y : 716 Max x : 2163 Max y : 2301\n",
      "Slide Width : 2022 Slide Height : 1585 Sliding : 512\n"
     ]
    },
    {
     "name": "stderr",
     "output_type": "stream",
     "text": [
      "\r",
      "  0%|          | 0/48 [00:00<?, ?it/s]"
     ]
    },
    {
     "name": "stdout",
     "output_type": "stream",
     "text": [
      "SIZE_PATCH_0 : 1024 SIZE_PATCH_2 : 64 SIZE_PATCH_ORIGIN : 514.1504\n",
      "dict_keys(['p_1', 'p_2', 'p_3', 'p_4', 'p_6', 'p_5'])\n",
      "SIZE_PATCH_0 : 1024 SIZE_PATCH_2 : 64 SIZE_PATCH_ORIGIN : 516.8128\n",
      "dict_keys(['p_1', 'p_2', 'p_3', 'p_4', 'p_6', 'p_5'])\n",
      "Min x : 366 Min y : 343 Max x : 3200 Max y : 2807\n",
      "Slide Width : 2834 Slide Height : 2464 Sliding : 512\n"
     ]
    },
    {
     "name": "stderr",
     "output_type": "stream",
     "text": [
      "\r",
      "  0%|          | 0/76 [00:00<?, ?it/s]"
     ]
    },
    {
     "name": "stdout",
     "output_type": "stream",
     "text": [
      "Min x : 483 Min y : 86 Max x : 3380 Max y : 2441\n",
      "Slide Width : 2897 Slide Height : 2355 Sliding : 512\n"
     ]
    },
    {
     "name": "stderr",
     "output_type": "stream",
     "text": [
      "\r",
      "  0%|          | 0/72 [00:00<?, ?it/s]"
     ]
    },
    {
     "name": "stdout",
     "output_type": "stream",
     "text": [
      "SIZE_PATCH_0 : 1024 SIZE_PATCH_2 : 64 SIZE_PATCH_ORIGIN : 514.1504\n",
      "dict_keys(['p_1', 'p_3', 'p_4', 'p_2', 'p_6', 'p_5'])\n",
      "Min x : 613 Min y : 286 Max x : 2872 Max y : 2146\n",
      "Slide Width : 2259 Slide Height : 1860 Sliding : 512\n"
     ]
    },
    {
     "name": "stderr",
     "output_type": "stream",
     "text": [
      "\r",
      "  0%|          | 0/57 [00:00<?, ?it/s]"
     ]
    },
    {
     "name": "stdout",
     "output_type": "stream",
     "text": [
      "SIZE_PATCH_0 : 1024 SIZE_PATCH_2 : 64 SIZE_PATCH_ORIGIN : 514.2528\n",
      "dict_keys(['p_1', 'p_2', 'p_3', 'p_4', 'p_6', 'p_5'])\n",
      "Min x : 260 Min y : 798 Max x : 2604 Max y : 2618\n",
      "Slide Width : 2344 Slide Height : 1820 Sliding : 512\n"
     ]
    },
    {
     "name": "stderr",
     "output_type": "stream",
     "text": [
      "  2%|▏         | 1/53 [00:16<14:08, 16.32s/it]"
     ]
    },
    {
     "name": "stdout",
     "output_type": "stream",
     "text": [
      "SIZE_PATCH_0 : 1024 SIZE_PATCH_2 : 64 SIZE_PATCH_ORIGIN : 514.1504\n",
      "dict_keys(['p_1', 'p_3', 'p_4', 'p_2', 'p_6', 'p_5'])\n",
      "Min x : 255 Min y : 131 Max x : 3264 Max y : 2441\n",
      "Slide Width : 3009 Slide Height : 2310 Sliding : 512\n"
     ]
    },
    {
     "name": "stderr",
     "output_type": "stream",
     "text": [
      "\r",
      "  0%|          | 0/71 [00:00<?, ?it/s]"
     ]
    },
    {
     "name": "stdout",
     "output_type": "stream",
     "text": [
      "SIZE_PATCH_0 : 1024 SIZE_PATCH_2 : 64 SIZE_PATCH_ORIGIN : 514.1504\n",
      "dict_keys(['p_1', 'p_3', 'p_4', 'p_2', 'p_6', 'p_5'])\n",
      "SIZE_PATCH_0 : 1024 SIZE_PATCH_2 : 64 SIZE_PATCH_ORIGIN : 514.1504\n",
      "dict_keys(['p_1', 'p_3', 'p_4', 'p_2', 'p_6', 'p_5'])\n"
     ]
    },
    {
     "name": "stderr",
     "output_type": "stream",
     "text": [
      "\r",
      "  2%|▏         | 1/48 [00:13<10:18, 13.17s/it]"
     ]
    },
    {
     "name": "stdout",
     "output_type": "stream",
     "text": [
      "Min x : 136 Min y : 358 Max x : 3193 Max y : 2376\n",
      "Slide Width : 3057 Slide Height : 2018 Sliding : 512\n",
      "SIZE_PATCH_0 : 1024 SIZE_PATCH_2 : 64 SIZE_PATCH_ORIGIN : 514.1504\n",
      "dict_keys(['p_1', 'p_3', 'p_4', 'p_2', 'p_6', 'p_5'])\n"
     ]
    },
    {
     "name": "stderr",
     "output_type": "stream",
     "text": [
      "\r",
      "  0%|          | 0/62 [00:00<?, ?it/s]"
     ]
    },
    {
     "name": "stdout",
     "output_type": "stream",
     "text": [
      "Min x : 466 Min y : 249 Max x : 3237 Max y : 2164\n",
      "Slide Width : 2771 Slide Height : 1915 Sliding : 512\n"
     ]
    },
    {
     "name": "stderr",
     "output_type": "stream",
     "text": [
      "\r",
      "  0%|          | 0/58 [00:00<?, ?it/s]"
     ]
    },
    {
     "name": "stdout",
     "output_type": "stream",
     "text": [
      "Min x : 81 Min y : 13 Max x : 3469 Max y : 2741\n",
      "Slide Width : 3388 Slide Height : 2728 Sliding : 512\n"
     ]
    },
    {
     "name": "stderr",
     "output_type": "stream",
     "text": [
      "\r",
      "  0%|          | 0/84 [00:00<?, ?it/s]"
     ]
    },
    {
     "name": "stdout",
     "output_type": "stream",
     "text": [
      "SIZE_PATCH_0 : 1024 SIZE_PATCH_2 : 64 SIZE_PATCH_ORIGIN : 514.1504\n",
      "SIZE_PATCH_0 : 1024 SIZE_PATCH_2 : 64 SIZE_PATCH_ORIGIN : 514.2528\n",
      "dict_keys(['p_1', 'p_2', 'p_3', 'p_4', 'p_6', 'p_5'])\n",
      "dict_keys(['p_1', 'p_3', 'p_4', 'p_2', 'p_6', 'p_5'])\n",
      "SIZE_PATCH_0 : 1024 SIZE_PATCH_2 : 64 SIZE_PATCH_ORIGIN : 514.1504\n",
      "dict_keys(['p_1', 'p_3', 'p_4', 'p_2', 'p_6', 'p_5'])\n"
     ]
    },
    {
     "name": "stderr",
     "output_type": "stream",
     "text": [
      "\r",
      "  2%|▏         | 1/57 [00:07<06:38,  7.11s/it]"
     ]
    },
    {
     "name": "stdout",
     "output_type": "stream",
     "text": [
      "Min x : 668 Min y : 858 Max x : 3145 Max y : 2511\n",
      "Min x : 300 Min y : 76 Max x : 3360 Max y : 2566\n",
      "Slide Width : 2477 Slide Height : 1653 Sliding : 512\n",
      "Slide Width : 3060 Slide Height : 2490 Sliding : 512\n"
     ]
    },
    {
     "name": "stderr",
     "output_type": "stream",
     "text": [
      "  0%|          | 0/76 [00:00<?, ?it/s]"
     ]
    },
    {
     "name": "stdout",
     "output_type": "stream",
     "text": [
      "Min x : 253 Min y : 31 Max x : 3345 Max y : 2791\n",
      "Slide Width : 3092 Slide Height : 2760 Sliding : 512\n"
     ]
    },
    {
     "name": "stderr",
     "output_type": "stream",
     "text": [
      "  1%|▏         | 1/72 [00:09<11:39,  9.85s/it]"
     ]
    },
    {
     "name": "stdout",
     "output_type": "stream",
     "text": [
      "SIZE_PATCH_0 : 1024 SIZE_PATCH_2 : 64 SIZE_PATCH_ORIGIN : 505.856\n",
      "SIZE_PATCH_0 : 1024 SIZE_PATCH_2 : 64 SIZE_PATCH_ORIGIN : 514.1504\n",
      "dict_keys(['p_1', 'p_2', 'p_3', 'p_4', 'p_6', 'p_5'])\n",
      "dict_keys(['p_1', 'p_3', 'p_4', 'p_2', 'p_6', 'p_5'])\n",
      "SIZE_PATCH_0 : 1024 SIZE_PATCH_2 : 64 SIZE_PATCH_ORIGIN : 514.7648\n",
      "dict_keys(['p_1', 'p_2', 'p_3', 'p_4', 'p_6', 'p_5'])\n",
      "Min x : 122 Min y : 33 Max x : 3295 Max y : 2362\n",
      "Slide Width : 3173 Slide Height : 2329 Sliding : 512\n"
     ]
    },
    {
     "name": "stderr",
     "output_type": "stream",
     "text": [
      "\r",
      "  0%|          | 0/71 [00:00<?, ?it/s]"
     ]
    },
    {
     "name": "stdout",
     "output_type": "stream",
     "text": [
      "Min x : 297 Min y : 125 Max x : 2694 Max y : 2319\n",
      "Slide Width : 2397 Slide Height : 2194 Sliding : 512\n"
     ]
    },
    {
     "name": "stderr",
     "output_type": "stream",
     "text": [
      "\r",
      "  0%|          | 0/67 [00:00<?, ?it/s]"
     ]
    },
    {
     "name": "stdout",
     "output_type": "stream",
     "text": [
      "Min x : 402 Min y : 743 Max x : 2891 Max y : 2680\n",
      "Slide Width : 2489 Slide Height : 1937 Sliding : 512\n"
     ]
    },
    {
     "name": "stderr",
     "output_type": "stream",
     "text": [
      "\r",
      "  0%|          | 0/59 [00:00<?, ?it/s]"
     ]
    },
    {
     "name": "stdout",
     "output_type": "stream",
     "text": [
      "SIZE_PATCH_0 : 1024 SIZE_PATCH_2 : 64 SIZE_PATCH_ORIGIN : 505.856\n",
      "dict_keys(['p_1', 'p_2', 'p_3', 'p_4', 'p_6', 'p_5'])\n",
      "SIZE_PATCH_0 : 1024 SIZE_PATCH_2 : 64 SIZE_PATCH_ORIGIN : 514.1504\n",
      "SIZE_PATCH_0 : 1024 SIZE_PATCH_2 : 64 SIZE_PATCH_ORIGIN : 505.856\n",
      "dict_keys(['p_1', 'p_3', 'p_4', 'p_2', 'p_6', 'p_5'])\n",
      "Min x : 585 Min y : 36 Max x : 3367 Max y : 2876\n",
      "dict_keys(['p_1', 'p_3', 'p_4', 'p_2', 'p_6', 'p_5'])\n",
      "Slide Width : 2782 Slide Height : 2840 Sliding : 512\n"
     ]
    },
    {
     "name": "stderr",
     "output_type": "stream",
     "text": [
      "  0%|          | 0/87 [00:00<?, ?it/s].48s/it]"
     ]
    },
    {
     "name": "stdout",
     "output_type": "stream",
     "text": [
      "Min x : 259 Min y : 290 Max x : 3088 Max y : 2567\n",
      "Slide Width : 2829 Slide Height : 2277 Sliding : 512\n"
     ]
    },
    {
     "name": "stderr",
     "output_type": "stream",
     "text": [
      "\r",
      "  0%|          | 0/70 [00:00<?, ?it/s]"
     ]
    },
    {
     "name": "stdout",
     "output_type": "stream",
     "text": [
      "Min x : 217 Min y : 92 Max x : 2617 Max y : 2744\n",
      "Slide Width : 2400 Slide Height : 2652 Sliding : 512\n"
     ]
    },
    {
     "name": "stderr",
     "output_type": "stream",
     "text": [
      "\r",
      "  0%|          | 0/81 [00:00<?, ?it/s]"
     ]
    },
    {
     "name": "stdout",
     "output_type": "stream",
     "text": [
      "SIZE_PATCH_0 : 1024 SIZE_PATCH_2 : 64 SIZE_PATCH_ORIGIN : 505.856\n",
      "SIZE_PATCH_0 : 1024 SIZE_PATCH_2 : 64 SIZE_PATCH_ORIGIN : 514.1504\n",
      "dict_keys(['p_1', 'p_3', 'p_4', 'p_2', 'p_6', 'p_5'])\n",
      "dict_keys(['p_1', 'p_3', 'p_4', 'p_2', 'p_6', 'p_5'])\n",
      "SIZE_PATCH_0 : 1024 SIZE_PATCH_2 : 64 SIZE_PATCH_ORIGIN : 514.7648\n",
      "dict_keys(['p_1', 'p_2', 'p_3', 'p_4', 'p_6', 'p_5'])\n",
      "Min x : 223 Min y : 141 Max x : 3296 Max y : 2497\n",
      "Min x : 207 Min y : 772 Max x : 3839 Max y : 2622\n",
      "Slide Width : 3073 Slide Height : 2356 Sliding : 512\n",
      "Slide Width : 3632 Slide Height : 1850 Sliding : 512\n"
     ]
    },
    {
     "name": "stderr",
     "output_type": "stream",
     "text": [
      "  2%|▏         | 1/55 [00:13<11:50, 13.16s/it]"
     ]
    },
    {
     "name": "stdout",
     "output_type": "stream",
     "text": [
      "Min x : 691 Min y : 82 Max x : 3444 Max y : 2815\n",
      "Slide Width : 2753 Slide Height : 2733 Sliding : 512\n"
     ]
    },
    {
     "name": "stderr",
     "output_type": "stream",
     "text": [
      "  2%|▏         | 1/55 [00:27<25:05, 27.87s/it]"
     ]
    },
    {
     "name": "stdout",
     "output_type": "stream",
     "text": [
      "SIZE_PATCH_0 : 1024 SIZE_PATCH_2 : 64 SIZE_PATCH_ORIGIN : 514.9696\n",
      "dict_keys(['p_1', 'p_3', 'p_4', 'p_2', 'p_6', 'p_5'])\n",
      "SIZE_PATCH_0 : 1024 SIZE_PATCH_2 : 64 SIZE_PATCH_ORIGIN : 514.2528\n",
      "SIZE_PATCH_0 : 1024 SIZE_PATCH_2 : 64 SIZE_PATCH_ORIGIN : 505.856\n",
      "dict_keys(['p_1', 'p_3', 'p_4', 'p_2', 'p_6', 'p_5'])\n",
      "dict_keys(['p_1', 'p_2', 'p_3', 'p_4', 'p_6', 'p_5'])\n",
      "SIZE_PATCH_0 : 1024 SIZE_PATCH_2 : 64 SIZE_PATCH_ORIGIN : 514.1504\n",
      "Min x : 521 Min y : 199 Max x : 3901 Max y : 2898\n",
      "dict_keys(['p_1', 'p_3', 'p_4', 'p_2', 'p_6', 'p_5'])\n",
      "Slide Width : 3380 Slide Height : 2699 Sliding : 512\n"
     ]
    },
    {
     "name": "stderr",
     "output_type": "stream",
     "text": [
      "\r",
      "  0%|          | 0/83 [00:00<?, ?it/s]"
     ]
    },
    {
     "name": "stdout",
     "output_type": "stream",
     "text": [
      "Min x : 342 Min y : 228 Max x : 3580 Max y : 2102\n",
      "Slide Width : 3238 Slide Height : 1874 Sliding : 512\n"
     ]
    },
    {
     "name": "stderr",
     "output_type": "stream",
     "text": [
      "\r",
      "  0%|          | 0/57 [00:00<?, ?it/s]"
     ]
    },
    {
     "name": "stdout",
     "output_type": "stream",
     "text": [
      "Min x : 227 Min y : 429 Max x : 3197 Max y : 3075\n",
      "Slide Width : 2970 Slide Height : 2646 Sliding : 512\n",
      "invalid literal for int() with base 10: 'None'\n",
      "invalid literal for int() with base 10: 'None'\n"
     ]
    },
    {
     "name": "stderr",
     "output_type": "stream",
     "text": [
      "\r",
      "  0%|          | 0/81 [00:00<?, ?it/s]"
     ]
    },
    {
     "name": "stdout",
     "output_type": "stream",
     "text": [
      "Min x : 405 Min y : 225 Max x : 3401 Max y : 2697\n",
      "Slide Width : 2996 Slide Height : 2472 Sliding : 512\n"
     ]
    },
    {
     "name": "stderr",
     "output_type": "stream",
     "text": [
      "\r",
      "  0%|          | 0/76 [00:00<?, ?it/s]"
     ]
    },
    {
     "name": "stdout",
     "output_type": "stream",
     "text": [
      "SIZE_PATCH_0 : 1024 SIZE_PATCH_2 : 64 SIZE_PATCH_ORIGIN : 505.856\n",
      "dict_keys(['p_1', 'p_2', 'p_3', 'p_4', 'p_6', 'p_5'])\n",
      "Min x : 261 Min y : 327 Max x : 3147 Max y : 2615\n",
      "Slide Width : 2886 Slide Height : 2288 Sliding : 512\n"
     ]
    },
    {
     "name": "stderr",
     "output_type": "stream",
     "text": [
      "\r",
      "  0%|          | 0/70 [00:00<?, ?it/s]"
     ]
    },
    {
     "name": "stdout",
     "output_type": "stream",
     "text": [
      "SIZE_PATCH_0 : 1024 SIZE_PATCH_2 : 64 SIZE_PATCH_ORIGIN : 514.3552\n"
     ]
    },
    {
     "name": "stderr",
     "output_type": "stream",
     "text": [
      "\r",
      "  2%|▏         | 1/50 [00:12<10:18, 12.63s/it]"
     ]
    },
    {
     "name": "stdout",
     "output_type": "stream",
     "text": [
      "dict_keys(['p_1', 'p_3', 'p_4', 'p_2', 'p_6', 'p_5'])\n"
     ]
    },
    {
     "name": "stderr",
     "output_type": "stream",
     "text": [
      "\r",
      "  2%|▏         | 1/62 [00:15<15:35, 15.34s/it]"
     ]
    },
    {
     "name": "stdout",
     "output_type": "stream",
     "text": [
      "Min x : 350 Min y : 320 Max x : 3532 Max y : 2781\n",
      "Slide Width : 3182 Slide Height : 2461 Sliding : 512\n"
     ]
    },
    {
     "name": "stderr",
     "output_type": "stream",
     "text": [
      "  1%|▏         | 1/70 [00:10<11:55, 10.37s/it]"
     ]
    },
    {
     "name": "stdout",
     "output_type": "stream",
     "text": [
      "SIZE_PATCH_0 : 1024 SIZE_PATCH_2 : 64 SIZE_PATCH_ORIGIN : 514.2528\n",
      "dict_keys(['p_1', 'p_3', 'p_4', 'p_2', 'p_5', 'p_6'])\n",
      "SIZE_PATCH_0 : 1024 SIZE_PATCH_2 : 64 SIZE_PATCH_ORIGIN : 514.2528\n",
      "dict_keys(['p_1', 'p_3', 'p_4', 'p_2', 'p_6', 'p_5'])\n"
     ]
    },
    {
     "name": "stderr",
     "output_type": "stream",
     "text": [
      "\r",
      "  3%|▎         | 2/72 [00:28<17:12, 14.76s/it]"
     ]
    },
    {
     "name": "stdout",
     "output_type": "stream",
     "text": [
      "SIZE_PATCH_0 : 1024 SIZE_PATCH_2 : 64 SIZE_PATCH_ORIGIN : 514.2528\n",
      "dict_keys(['p_1', 'p_2', 'p_3', 'p_4', 'p_6', 'p_5'])\n"
     ]
    },
    {
     "name": "stderr",
     "output_type": "stream",
     "text": [
      "\r",
      "  2%|▏         | 1/58 [00:21<19:57, 21.01s/it]"
     ]
    },
    {
     "name": "stdout",
     "output_type": "stream",
     "text": [
      "Min x : 1870 Min y : 471 Max x : 3006 Max y : 1294\n",
      "Slide Width : 1136 Slide Height : 823 Sliding : 512\n",
      "Min x : 786 Min y : 109 Max x : 4556 Max y : 2922\n",
      "Slide Width : 3770 Slide Height : 2813 Sliding : 512\n"
     ]
    },
    {
     "name": "stderr",
     "output_type": "stream",
     "text": [
      "  0%|          | 0/86 [00:00<?, ?it/s]"
     ]
    },
    {
     "name": "stdout",
     "output_type": "stream",
     "text": [
      "SIZE_PATCH_0 : 1024 SIZE_PATCH_2 : 64 SIZE_PATCH_ORIGIN : 514.2528\n",
      "dict_keys(['p_1', 'p_2', 'p_3', 'p_4', 'p_6', 'p_5'])\n"
     ]
    },
    {
     "name": "stderr",
     "output_type": "stream",
     "text": [
      "  4%|▍         | 2/48 [00:36<14:31, 18.95s/it]"
     ]
    },
    {
     "name": "stdout",
     "output_type": "stream",
     "text": [
      "SIZE_PATCH_0 : 1024 SIZE_PATCH_2 : 64 SIZE_PATCH_ORIGIN : 514.2528\n",
      "dict_keys(['p_1', 'p_3', 'p_4', 'p_2', 'p_6', 'p_5'])\n",
      "Min x : 2609 Min y : 584 Max x : 4558 Max y : 2762\n",
      "Slide Width : 1949 Slide Height : 2178 Sliding : 512\n"
     ]
    },
    {
     "name": "stderr",
     "output_type": "stream",
     "text": [
      "\r",
      "  0%|          | 0/67 [00:00<?, ?it/s]"
     ]
    },
    {
     "name": "stdout",
     "output_type": "stream",
     "text": [
      "Min x : 2119 Min y : 22 Max x : 5157 Max y : 2901\n",
      "Slide Width : 3038 Slide Height : 2879 Sliding : 512\n"
     ]
    },
    {
     "name": "stderr",
     "output_type": "stream",
     "text": [
      "  4%|▍         | 2/50 [00:22<08:49, 11.03s/it]"
     ]
    },
    {
     "name": "stdout",
     "output_type": "stream",
     "text": [
      "Min x : 1961 Min y : 71 Max x : 4443 Max y : 2539\n",
      "Slide Width : 2482 Slide Height : 2468 Sliding : 512\n"
     ]
    },
    {
     "name": "stderr",
     "output_type": "stream",
     "text": [
      "  1%|          | 1/81 [00:17<22:59, 17.24s/it]"
     ]
    },
    {
     "name": "stdout",
     "output_type": "stream",
     "text": [
      "invalid literal for int() with base 10: 'None'\n"
     ]
    },
    {
     "name": "stderr",
     "output_type": "stream",
     "text": [
      "\r",
      "  4%|▎         | 2/55 [00:28<12:49, 14.51s/it]"
     ]
    },
    {
     "name": "stdout",
     "output_type": "stream",
     "text": [
      "invalid literal for int() with base 10: 'None'\n",
      "invalid literal for int() with base 10: 'None'\n",
      "invalid literal for int() with base 10: 'None'\n",
      "invalid literal for int() with base 10: 'None'\n",
      "invalid literal for int() with base 10: 'None'\n",
      "invalid literal for int() with base 10: 'None'\n",
      "invalid literal for int() with base 10: 'None'\n",
      "invalid literal for int() with base 10: 'None'\n",
      "invalid literal for int() with base 10: 'None'\n"
     ]
    },
    {
     "name": "stderr",
     "output_type": "stream",
     "text": [
      "\r",
      "  2%|▏         | 1/59 [00:19<19:10, 19.84s/it]"
     ]
    },
    {
     "name": "stdout",
     "output_type": "stream",
     "text": [
      "SIZE_PATCH_0 : 1024 SIZE_PATCH_2 : 64 SIZE_PATCH_ORIGIN : 514.2528\n",
      "dict_keys(['p_1', 'p_3', 'p_4', 'p_2', 'p_6'])\n"
     ]
    },
    {
     "name": "stderr",
     "output_type": "stream",
     "text": [
      "  4%|▎         | 2/55 [00:40<19:22, 21.93s/it]"
     ]
    },
    {
     "name": "stdout",
     "output_type": "stream",
     "text": [
      "Min x : 1134 Min y : 142 Max x : 3785 Max y : 2025\n",
      "Slide Width : 2651 Slide Height : 1883 Sliding : 512\n"
     ]
    },
    {
     "name": "stderr",
     "output_type": "stream",
     "text": [
      " 13%|█▎        | 10/76 [03:31<24:42, 22.46s/it]\n",
      " 41%|████      | 31/76 [11:50<23:07, 30.84s/it]/home/centos/jupyter/pathology/stain_normalization.py:87: RuntimeWarning: overflow encountered in exp\n",
      "  Inorm = np.multiply(Io, np.exp(-HERef.dot(C2)))\n",
      "/home/centos/jupyter/pathology/stain_normalization.py:87: RuntimeWarning: overflow encountered in multiply\n",
      "  Inorm = np.multiply(Io, np.exp(-HERef.dot(C2)))\n",
      "100%|██████████| 48/48 [13:56<00:00, 17.42s/it]\n",
      "100%|██████████| 55/55 [14:07<00:00, 15.41s/it]\n",
      "100%|██████████| 53/53 [15:45<00:00, 17.84s/it]\n",
      "100%|██████████| 67/67 [15:05<00:00, 13.52s/it]\n",
      "100%|██████████| 59/59 [15:52<00:00, 16.14s/it]t]\n",
      "100%|██████████| 50/50 [16:56<00:00, 20.34s/it]  \n",
      "100%|██████████| 55/55 [17:03<00:00, 18.61s/it]\n",
      "100%|██████████| 58/58 [18:47<00:00, 19.44s/it]\n",
      "100%|██████████| 57/57 [18:20<00:00, 19.31s/it]\n",
      "100%|██████████| 62/62 [20:58<00:00, 20.30s/it]\n",
      "100%|██████████| 57/57 [22:06<00:00, 23.28s/it]\n",
      "100%|██████████| 57/57 [22:51<00:00, 24.06s/it]\n",
      "100%|██████████| 72/72 [23:38<00:00, 19.70s/it]\n",
      "100%|██████████| 76/76 [23:16<00:00, 18.38s/it]\n",
      "100%|██████████| 76/76 [24:17<00:00, 19.17s/it]\n",
      "100%|██████████| 71/71 [24:24<00:00, 20.63s/it]\n",
      "100%|██████████| 72/72 [25:11<00:00, 20.99s/it]\n",
      "100%|██████████| 71/71 [25:51<00:00, 21.85s/it]\n",
      "100%|██████████| 76/76 [26:22<00:00, 20.82s/it]\n",
      "100%|██████████| 67/67 [26:37<00:00, 23.85s/it]\n",
      "100%|██████████| 70/70 [27:47<00:00, 23.83s/it]\n",
      "100%|██████████| 85/85 [27:57<00:00, 19.73s/it]\n",
      "100%|██████████| 76/76 [28:13<00:00, 22.28s/it]\n",
      "100%|██████████| 84/84 [28:15<00:00, 20.18s/it]\n",
      "100%|██████████| 56/56 [28:49<00:00, 30.89s/it]\n",
      "100%|██████████| 83/83 [28:52<00:00, 20.87s/it]\n",
      "100%|██████████| 81/81 [29:36<00:00, 21.93s/it]\n",
      "100%|██████████| 55/55 [30:07<00:00, 32.86s/it]\n",
      "100%|██████████| 84/84 [30:03<00:00, 21.47s/it]\n",
      "100%|██████████| 88/88 [30:10<00:00, 20.57s/it]\n",
      "100%|██████████| 70/70 [30:24<00:00, 26.06s/it]\n",
      "100%|██████████| 87/87 [30:50<00:00, 21.27s/it]\n",
      "100%|██████████| 86/86 [30:42<00:00, 21.42s/it]\n",
      "100%|██████████| 81/81 [31:48<00:00, 23.56s/it]\n",
      "100%|██████████| 75/75 [36:02<00:00, 28.83s/it]\n"
     ]
    }
   ],
   "source": [
    "for anno_path in glob.glob(annotation_base+'*.xml')[9:]:\n",
    "    file_name = '_'.join(anno_path.split('/')[-1].split('_')[:-1])\n",
    "    tissue_name = file_name.split('_')[0].lower()\n",
    "    slide_path= os.path.join(slide_base,tissue_name,file_name+'.svs')\n",
    "    \n",
    "    init_params.update({'svs_path':slide_path,'xml_path':anno_path})\n",
    "    '''\n",
    "    slide = processor(init_params)\n",
    "    slide.get_patch(save=True,tool='asap',feature='global')\n",
    "    '''\n",
    "    p = multiprocessing.Process(target=extract,args=(init_params,))\n",
    "    p.start()\n",
    "    "
   ]
  }
 ],
 "metadata": {
  "kernelspec": {
   "display_name": "Environment (conda_tensorflow2_p36)",
   "language": "python",
   "name": "conda_tensorflow2_p36"
  },
  "language_info": {
   "codemirror_mode": {
    "name": "ipython",
    "version": 3
   },
   "file_extension": ".py",
   "mimetype": "text/x-python",
   "name": "python",
   "nbconvert_exporter": "python",
   "pygments_lexer": "ipython3",
   "version": "3.6.10"
  }
 },
 "nbformat": 4,
 "nbformat_minor": 2
}
