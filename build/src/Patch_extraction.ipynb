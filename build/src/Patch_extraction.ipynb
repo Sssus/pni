{
 "cells": [
  {
   "cell_type": "code",
   "execution_count": 6,
   "metadata": {},
   "outputs": [],
   "source": [
    "from util.processor import slide_processor\n",
    "import numpy as np\n",
    "import cv2 as cv\n",
    "import matplotlib.pyplot as plt\n",
    "import tqdm, glob, os\n",
    "from util.cfg import init_params,GLOB_PATH"
   ]
  },
  {
   "cell_type": "code",
   "execution_count": 2,
   "metadata": {},
   "outputs": [],
   "source": [
    "import multiprocessing"
   ]
  },
  {
   "cell_type": "code",
   "execution_count": 8,
   "metadata": {},
   "outputs": [],
   "source": [
    "def extract(init_params):\n",
    "    slide = slide_processor(init_params)\n",
    "    slide.get_patch(save=True,tool='asap',feature='global')"
   ]
  },
  {
   "cell_type": "code",
   "execution_count": 7,
   "metadata": {},
   "outputs": [
    {
     "name": "stderr",
     "output_type": "stream",
     "text": [
      "\r",
      "  0%|          | 0/85 [00:00<?, ?it/s]"
     ]
    },
    {
     "name": "stdout",
     "output_type": "stream",
     "text": [
      "SIZE_PATCH_0 : 1024 SIZE_PATCH_2 : 64 SIZE_PATCH_ORIGIN : 514.8672\n",
      "dict_keys(['p_1', 'p_2', 'p_3', 'p_4'])\n",
      "Min x : 146 Min y : 28 Max x : 3089 Max y : 2806\n",
      "Slide Width : 2943 Slide Height : 2778 Sliding : 512\n"
     ]
    },
    {
     "name": "stderr",
     "output_type": "stream",
     "text": [
      "  7%|▋         | 6/85 [00:34<07:33,  5.74s/it]\n"
     ]
    },
    {
     "ename": "NameError",
     "evalue": "name 'norm_image' is not defined",
     "output_type": "error",
     "traceback": [
      "\u001b[0;31m---------------------------------------------------------------------------\u001b[0m",
      "\u001b[0;31mNameError\u001b[0m                                 Traceback (most recent call last)",
      "\u001b[0;32m<ipython-input-7-bb98bc236436>\u001b[0m in \u001b[0;36m<module>\u001b[0;34m\u001b[0m\n\u001b[1;32m     10\u001b[0m     \u001b[0;34m'patch_size'\u001b[0m\u001b[0;34m:\u001b[0m\u001b[0;36m512\u001b[0m\u001b[0;34m\u001b[0m\u001b[0;34m\u001b[0m\u001b[0m\n\u001b[1;32m     11\u001b[0m })\n\u001b[0;32m---> 12\u001b[0;31m \u001b[0mslide\u001b[0m\u001b[0;34m.\u001b[0m\u001b[0mget_patch\u001b[0m\u001b[0;34m(\u001b[0m\u001b[0msave\u001b[0m\u001b[0;34m=\u001b[0m\u001b[0;32mTrue\u001b[0m\u001b[0;34m,\u001b[0m\u001b[0mtool\u001b[0m\u001b[0;34m=\u001b[0m\u001b[0;34m'asap'\u001b[0m\u001b[0;34m,\u001b[0m\u001b[0mfeature\u001b[0m\u001b[0;34m=\u001b[0m\u001b[0;34m'global'\u001b[0m\u001b[0;34m)\u001b[0m\u001b[0;34m\u001b[0m\u001b[0;34m\u001b[0m\u001b[0m\n\u001b[0m",
      "\u001b[0;32m/tf/util/processor.py\u001b[0m in \u001b[0;36mget_patch\u001b[0;34m(self, tool, feature, show, save)\u001b[0m\n\u001b[1;32m    244\u001b[0m                     \u001b[0mp3_patch\u001b[0m \u001b[0;34m=\u001b[0m \u001b[0manno_mask\u001b[0m\u001b[0;34m[\u001b[0m\u001b[0;34m'p_3'\u001b[0m\u001b[0;34m]\u001b[0m\u001b[0;34m[\u001b[0m\u001b[0mstart_y\u001b[0m\u001b[0;34m:\u001b[0m\u001b[0mend_y\u001b[0m\u001b[0;34m,\u001b[0m\u001b[0mstart_x\u001b[0m\u001b[0;34m:\u001b[0m\u001b[0mend_x\u001b[0m\u001b[0;34m]\u001b[0m\u001b[0;34m\u001b[0m\u001b[0;34m\u001b[0m\u001b[0m\n\u001b[1;32m    245\u001b[0m                     \u001b[0;32mif\u001b[0m \u001b[0;34m(\u001b[0m\u001b[0mself\u001b[0m\u001b[0;34m.\u001b[0m\u001b[0mget_ratio_mask\u001b[0m\u001b[0;34m(\u001b[0m\u001b[0mp3_patch\u001b[0m\u001b[0;34m)\u001b[0m \u001b[0;34m==\u001b[0m \u001b[0;36m1.0\u001b[0m\u001b[0;34m)\u001b[0m\u001b[0;34m:\u001b[0m\u001b[0;34m\u001b[0m\u001b[0;34m\u001b[0m\u001b[0m\n\u001b[0;32m--> 246\u001b[0;31m                         \u001b[0mself\u001b[0m\u001b[0;34m.\u001b[0m\u001b[0mexecute_patch\u001b[0m\u001b[0;34m(\u001b[0m\u001b[0mimg_patch\u001b[0m\u001b[0;34m,\u001b[0m\u001b[0mp3_patch\u001b[0m\u001b[0;34m,\u001b[0m\u001b[0mpatch_count\u001b[0m\u001b[0;34m,\u001b[0m\u001b[0msave_path\u001b[0m\u001b[0;34m,\u001b[0m\u001b[0mname\u001b[0m\u001b[0;34m=\u001b[0m\u001b[0;34m'p3'\u001b[0m\u001b[0;34m,\u001b[0m\u001b[0mshow\u001b[0m\u001b[0;34m=\u001b[0m\u001b[0mshow\u001b[0m\u001b[0;34m,\u001b[0m\u001b[0msave\u001b[0m\u001b[0;34m=\u001b[0m\u001b[0msave\u001b[0m\u001b[0;34m)\u001b[0m\u001b[0;34m;\u001b[0m \u001b[0mpatch_count\u001b[0m\u001b[0;34m+=\u001b[0m\u001b[0;36m1\u001b[0m\u001b[0;34m\u001b[0m\u001b[0;34m\u001b[0m\u001b[0m\n\u001b[0m\u001b[1;32m    247\u001b[0m                 \u001b[0;32mif\u001b[0m \u001b[0;34m'p_4'\u001b[0m \u001b[0;32min\u001b[0m \u001b[0manno_mask\u001b[0m\u001b[0;34m.\u001b[0m\u001b[0mkeys\u001b[0m\u001b[0;34m(\u001b[0m\u001b[0;34m)\u001b[0m\u001b[0;34m:\u001b[0m\u001b[0;34m\u001b[0m\u001b[0;34m\u001b[0m\u001b[0m\n\u001b[1;32m    248\u001b[0m                     \u001b[0mp4_patch\u001b[0m \u001b[0;34m=\u001b[0m \u001b[0manno_mask\u001b[0m\u001b[0;34m[\u001b[0m\u001b[0;34m'p_4'\u001b[0m\u001b[0;34m]\u001b[0m\u001b[0;34m[\u001b[0m\u001b[0mstart_y\u001b[0m\u001b[0;34m:\u001b[0m\u001b[0mend_y\u001b[0m\u001b[0;34m,\u001b[0m\u001b[0mstart_x\u001b[0m\u001b[0;34m:\u001b[0m\u001b[0mend_x\u001b[0m\u001b[0;34m]\u001b[0m\u001b[0;34m\u001b[0m\u001b[0;34m\u001b[0m\u001b[0m\n",
      "\u001b[0;32m/tf/util/processor.py\u001b[0m in \u001b[0;36mexecute_patch\u001b[0;34m(self, patch_img, mask_img, patch_count, save_dir, name, show, save)\u001b[0m\n\u001b[1;32m    173\u001b[0m         \u001b[0mresize_mask\u001b[0m \u001b[0;34m=\u001b[0m \u001b[0mcv\u001b[0m\u001b[0;34m.\u001b[0m\u001b[0mresize\u001b[0m\u001b[0;34m(\u001b[0m\u001b[0mmask_img\u001b[0m\u001b[0;34m,\u001b[0m\u001b[0;34m(\u001b[0m\u001b[0mself\u001b[0m\u001b[0;34m.\u001b[0m\u001b[0mpatch_size\u001b[0m\u001b[0;34m,\u001b[0m\u001b[0mself\u001b[0m\u001b[0;34m.\u001b[0m\u001b[0mpatch_size\u001b[0m\u001b[0;34m)\u001b[0m\u001b[0;34m,\u001b[0m\u001b[0mcv\u001b[0m\u001b[0;34m.\u001b[0m\u001b[0mINTER_CUBIC\u001b[0m\u001b[0;34m)\u001b[0m\u001b[0;34m\u001b[0m\u001b[0;34m\u001b[0m\u001b[0m\n\u001b[1;32m    174\u001b[0m         \u001b[0;31m#norm_image = stain_norm(resize_image)\u001b[0m\u001b[0;34m\u001b[0m\u001b[0;34m\u001b[0m\u001b[0;34m\u001b[0m\u001b[0m\n\u001b[0;32m--> 175\u001b[0;31m         \u001b[0mresize_image_RGB\u001b[0m \u001b[0;34m=\u001b[0m \u001b[0mcv\u001b[0m\u001b[0;34m.\u001b[0m\u001b[0mcvtColor\u001b[0m\u001b[0;34m(\u001b[0m\u001b[0mnorm_image\u001b[0m\u001b[0;34m,\u001b[0m\u001b[0mcv\u001b[0m\u001b[0;34m.\u001b[0m\u001b[0mCOLOR_BGR2RGB\u001b[0m\u001b[0;34m)\u001b[0m\u001b[0;34m\u001b[0m\u001b[0;34m\u001b[0m\u001b[0m\n\u001b[0m\u001b[1;32m    176\u001b[0m \u001b[0;34m\u001b[0m\u001b[0m\n\u001b[1;32m    177\u001b[0m         \u001b[0;32mif\u001b[0m \u001b[0mshow\u001b[0m\u001b[0;34m==\u001b[0m\u001b[0;32mTrue\u001b[0m\u001b[0;34m:\u001b[0m\u001b[0;34m\u001b[0m\u001b[0;34m\u001b[0m\u001b[0m\n",
      "\u001b[0;31mNameError\u001b[0m: name 'norm_image' is not defined"
     ]
    }
   ],
   "source": [
    "#glob_path = '../../new_data/paip/'\n",
    "#print(glob.glob(glob_path+'*/*.svs')[1:2])\n",
    "slide =slide_processor({\n",
    "    'svs_path':f'/data/PAIP/001/Col_PNI2021chall_train_0001.svs',\n",
    "    'xml_path':f'/data/PAIP/001/Col_PNI2021chall_train_0001_nerve.xml',\n",
    "    'patient_path':'/data/PAIP/001/',\n",
    "    'patch_name':'patches',\n",
    "    'level':2,\n",
    "    'overlap':0.5,\n",
    "    'patch_size':512\n",
    "})\n",
    "slide.get_patch(save=True,tool='asap',feature='global')"
   ]
  },
  {
   "cell_type": "code",
   "execution_count": 14,
   "metadata": {},
   "outputs": [
    {
     "data": {
      "text/plain": [
       "True"
      ]
     },
     "execution_count": 14,
     "metadata": {},
     "output_type": "execute_result"
    }
   ],
   "source": [
    "os.path.exists(os.path.join(glob.glob('/data/PAIP/???')[0],'patches'))"
   ]
  },
  {
   "cell_type": "code",
   "execution_count": 15,
   "metadata": {},
   "outputs": [
    {
     "data": {
      "text/plain": [
       "{'level': 2,\n",
       " 'overlap': 0.5,\n",
       " 'patch_size': 512,\n",
       " 'patient_path': './patch_overlap_global_512_stain/'}"
      ]
     },
     "execution_count": 15,
     "metadata": {},
     "output_type": "execute_result"
    }
   ],
   "source": [
    "init_params"
   ]
  },
  {
   "cell_type": "code",
   "execution_count": 18,
   "metadata": {},
   "outputs": [
    {
     "data": {
      "text/plain": [
       "['/data/PAIP/001/Col_PNI2021chall_train_0001.svs']"
      ]
     },
     "execution_count": 18,
     "metadata": {},
     "output_type": "execute_result"
    }
   ],
   "source": [
    "glob.glob('/data/PAIP/001'+'/*.svs')"
   ]
  },
  {
   "cell_type": "code",
   "execution_count": 16,
   "metadata": {},
   "outputs": [
    {
     "data": {
      "text/plain": [
       "'/data/PAIP/001'"
      ]
     },
     "execution_count": 16,
     "metadata": {},
     "output_type": "execute_result"
    }
   ],
   "source": [
    "glob.glob('/data/PAIP/???')[0]"
   ]
  },
  {
   "cell_type": "code",
   "execution_count": 26,
   "metadata": {},
   "outputs": [],
   "source": [
    "from shutil import rmtree"
   ]
  },
  {
   "cell_type": "code",
   "execution_count": 25,
   "metadata": {},
   "outputs": [
    {
     "ename": "OSError",
     "evalue": "[Errno 39] Directory not empty: '/data/PAIP/001/patches/'",
     "output_type": "error",
     "traceback": [
      "\u001b[0;31m---------------------------------------------------------------------------\u001b[0m",
      "\u001b[0;31mOSError\u001b[0m                                   Traceback (most recent call last)",
      "\u001b[0;32m<ipython-input-25-863a80187167>\u001b[0m in \u001b[0;36m<module>\u001b[0;34m\u001b[0m\n\u001b[0;32m----> 1\u001b[0;31m \u001b[0mos\u001b[0m\u001b[0;34m.\u001b[0m\u001b[0mremovedirs\u001b[0m\u001b[0;34m(\u001b[0m\u001b[0;34m'/data/PAIP/001/patches/'\u001b[0m\u001b[0;34m)\u001b[0m\u001b[0;34m\u001b[0m\u001b[0;34m\u001b[0m\u001b[0m\n\u001b[0m",
      "\u001b[0;32m/usr/lib/python3.6/os.py\u001b[0m in \u001b[0;36mremovedirs\u001b[0;34m(name)\u001b[0m\n\u001b[1;32m    236\u001b[0m \u001b[0;34m\u001b[0m\u001b[0m\n\u001b[1;32m    237\u001b[0m     \"\"\"\n\u001b[0;32m--> 238\u001b[0;31m     \u001b[0mrmdir\u001b[0m\u001b[0;34m(\u001b[0m\u001b[0mname\u001b[0m\u001b[0;34m)\u001b[0m\u001b[0;34m\u001b[0m\u001b[0;34m\u001b[0m\u001b[0m\n\u001b[0m\u001b[1;32m    239\u001b[0m     \u001b[0mhead\u001b[0m\u001b[0;34m,\u001b[0m \u001b[0mtail\u001b[0m \u001b[0;34m=\u001b[0m \u001b[0mpath\u001b[0m\u001b[0;34m.\u001b[0m\u001b[0msplit\u001b[0m\u001b[0;34m(\u001b[0m\u001b[0mname\u001b[0m\u001b[0;34m)\u001b[0m\u001b[0;34m\u001b[0m\u001b[0;34m\u001b[0m\u001b[0m\n\u001b[1;32m    240\u001b[0m     \u001b[0;32mif\u001b[0m \u001b[0;32mnot\u001b[0m \u001b[0mtail\u001b[0m\u001b[0;34m:\u001b[0m\u001b[0;34m\u001b[0m\u001b[0;34m\u001b[0m\u001b[0m\n",
      "\u001b[0;31mOSError\u001b[0m: [Errno 39] Directory not empty: '/data/PAIP/001/patches/'"
     ]
    }
   ],
   "source": [
    "os.removedirs('/data/PAIP/001/patches/',)"
   ]
  },
  {
   "cell_type": "code",
   "execution_count": 32,
   "metadata": {},
   "outputs": [
    {
     "data": {
      "text/plain": [
       "'3.6.9 (default, Jan 26 2021, 15:33:00) \\n[GCC 8.4.0]'"
      ]
     },
     "execution_count": 32,
     "metadata": {},
     "output_type": "execute_result"
    }
   ],
   "source": [
    "import sys\n",
    "sys.version"
   ]
  },
  {
   "cell_type": "code",
   "execution_count": 24,
   "metadata": {},
   "outputs": [
    {
     "name": "stdout",
     "output_type": "stream",
     "text": [
      "SIZE_PATCH_0 : 1024 SIZE_PATCH_2 : 64 SIZE_PATCH_ORIGIN : 505.856\n",
      "dict_keys(['p_1', 'p_3', 'p_4', 'p_2'])\n",
      "Min x : 1874 Min y : 6 Max x : 3410 Max y : 2645\n",
      "Slide Width : 1536 Slide Height : 2639 Sliding : 512\n"
     ]
    },
    {
     "name": "stderr",
     "output_type": "stream",
     "text": [
      "\r",
      "  0%|          | 0/81 [00:00<?, ?it/s]"
     ]
    },
    {
     "name": "stdout",
     "output_type": "stream",
     "text": [
      "SIZE_PATCH_0 : 1024 SIZE_PATCH_2 : 64 SIZE_PATCH_ORIGIN : 514.3552\n",
      "dict_keys(['p_1', 'p_3', 'p_4', 'p_2'])\n",
      "SIZE_PATCH_0 : 1024 SIZE_PATCH_2 : 64 SIZE_PATCH_ORIGIN : 514.8672\n",
      "dict_keys(['p_1', 'p_3', 'p_4', 'p_2'])\n",
      "Min x : 355 Min y : 241 Max x : 2550 Max y : 2056\n",
      "Slide Width : 2195 Slide Height : 1815 Sliding : 512\n"
     ]
    },
    {
     "name": "stderr",
     "output_type": "stream",
     "text": [
      "\r",
      "  0%|          | 0/55 [00:00<?, ?it/s]"
     ]
    },
    {
     "name": "stdout",
     "output_type": "stream",
     "text": [
      "SIZE_PATCH_0 : 1024 SIZE_PATCH_2 : 64 SIZE_PATCH_ORIGIN : 514.1504\n",
      "dict_keys(['p_1', 'p_2', 'p_3', 'p_4'])\n",
      "Min x : 371 Min y : 890 Max x : 3626 Max y : 2633\n",
      "Slide Width : 3255 Slide Height : 1743 Sliding : 512\n"
     ]
    },
    {
     "name": "stderr",
     "output_type": "stream",
     "text": [
      "\r",
      "  0%|          | 0/53 [00:00<?, ?it/s]"
     ]
    },
    {
     "name": "stdout",
     "output_type": "stream",
     "text": [
      "Min x : 205 Min y : 2 Max x : 3344 Max y : 2640\n",
      "Slide Width : 3139 Slide Height : 2638 Sliding : 512\n"
     ]
    },
    {
     "name": "stderr",
     "output_type": "stream",
     "text": [
      "  1%|          | 1/81 [00:06<08:59,  6.74s/it]"
     ]
    },
    {
     "name": "stdout",
     "output_type": "stream",
     "text": [
      "SIZE_PATCH_0 : 1024 SIZE_PATCH_2 : 64 SIZE_PATCH_ORIGIN : 514.1504\n",
      "dict_keys(['p_1', 'p_2', 'p_3', 'p_4'])\n",
      "SIZE_PATCH_0 : 1024 SIZE_PATCH_2 : 64 SIZE_PATCH_ORIGIN : 514.2528\n",
      "dict_keys(['p_1', 'p_3', 'p_4', 'p_2'])\n",
      "Min x : 445 Min y : 108 Max x : 3355 Max y : 2887\n",
      "SIZE_PATCH_0 : 1024 SIZE_PATCH_2 : 64 SIZE_PATCH_ORIGIN : 514.1504\n",
      "Min x : 786 Min y : 109 Max x : 4556 Max y : 2922\n",
      "Slide Width : 2910 Slide Height : 2779 Sliding : 512\n",
      "SIZE_PATCH_0 : 1024 SIZE_PATCH_2 : 64 SIZE_PATCH_ORIGIN : 514.1504\n",
      "dict_keys(['p_1', 'p_2', 'p_3', 'p_4'])\n",
      "dict_keys(['p_1', 'p_3', 'p_4', 'p_2'])\n"
     ]
    },
    {
     "name": "stderr",
     "output_type": "stream",
     "text": [
      "\r",
      "  0%|          | 0/85 [00:00<?, ?it/s]"
     ]
    },
    {
     "name": "stdout",
     "output_type": "stream",
     "text": [
      "Slide Width : 3770 Slide Height : 2813 Sliding : 512\n"
     ]
    },
    {
     "name": "stderr",
     "output_type": "stream",
     "text": [
      "\r",
      "  0%|          | 0/86 [00:00<?, ?it/s]"
     ]
    },
    {
     "name": "stdout",
     "output_type": "stream",
     "text": [
      "Min x : 366 Min y : 343 Max x : 3200 Max y : 2807\n",
      "Min x : 160 Min y : 271 Max x : 3122 Max y : 2299\n",
      "Slide Width : 2834 Slide Height : 2464 Sliding : 512\n",
      "Slide Width : 2962 Slide Height : 2028 Sliding : 512\n"
     ]
    },
    {
     "name": "stderr",
     "output_type": "stream",
     "text": [
      "\r",
      "  0%|          | 0/76 [00:00<?, ?it/s]"
     ]
    },
    {
     "name": "stdout",
     "output_type": "stream",
     "text": [
      "SIZE_PATCH_0 : 1024 SIZE_PATCH_2 : 64 SIZE_PATCH_ORIGIN : 514.9696\n"
     ]
    },
    {
     "name": "stderr",
     "output_type": "stream",
     "text": [
      "\r",
      "  0%|          | 0/62 [00:00<?, ?it/s]"
     ]
    },
    {
     "name": "stdout",
     "output_type": "stream",
     "text": [
      "dict_keys(['p_1', 'p_3', 'p_4', 'p_2'])\n",
      "SIZE_PATCH_0 : 1024 SIZE_PATCH_2 : 64 SIZE_PATCH_ORIGIN : 514.3552\n",
      "dict_keys(['p_1', 'p_3', 'p_4', 'p_2'])\n",
      "Min x : 775 Min y : 262 Max x : 3436 Max y : 2697\n",
      "Slide Width : 2661 Slide Height : 2435 Sliding : 512\n"
     ]
    },
    {
     "name": "stderr",
     "output_type": "stream",
     "text": [
      "\r",
      "  0%|          | 0/75 [00:00<?, ?it/s]"
     ]
    },
    {
     "name": "stdout",
     "output_type": "stream",
     "text": [
      "SIZE_PATCH_0 : 1024 SIZE_PATCH_2 : 64 SIZE_PATCH_ORIGIN : 514.1504\n",
      "dict_keys(['p_1', 'p_3', 'p_4', 'p_2'])\n",
      "SIZE_PATCH_0 : 1024 SIZE_PATCH_2 : 64 SIZE_PATCH_ORIGIN : 514.3552\n",
      "SIZE_PATCH_0 : 1024 SIZE_PATCH_2 : 64 SIZE_PATCH_ORIGIN : 514.3552\n",
      "dict_keys(['p_1', 'p_3', 'p_4', 'p_2'])\n",
      "Min x : 411 Min y : 239 Max x : 3518 Max y : 2613\n",
      "dict_keys(['p_1', 'p_3', 'p_4', 'p_2'])\n",
      "Slide Width : 3107 Slide Height : 2374 Sliding : 512\n"
     ]
    },
    {
     "name": "stderr",
     "output_type": "stream",
     "text": [
      "\r",
      "  0%|          | 0/73 [00:00<?, ?it/s]"
     ]
    },
    {
     "name": "stdout",
     "output_type": "stream",
     "text": [
      "Min x : 350 Min y : 320 Max x : 3532 Max y : 2781\n",
      "Slide Width : 3182 Slide Height : 2461 Sliding : 512\n",
      "Min x : 775 Min y : 98 Max x : 3279 Max y : 2454\n"
     ]
    },
    {
     "name": "stderr",
     "output_type": "stream",
     "text": [
      "\r",
      "  0%|          | 0/75 [00:00<?, ?it/s]"
     ]
    },
    {
     "name": "stdout",
     "output_type": "stream",
     "text": [
      "Slide Width : 2504 Slide Height : 2356 Sliding : 512\n",
      "SIZE_PATCH_0 : 1024 SIZE_PATCH_2 : 64 SIZE_PATCH_ORIGIN : 505.856\n"
     ]
    },
    {
     "name": "stderr",
     "output_type": "stream",
     "text": [
      "\r",
      "  0%|          | 0/72 [00:00<?, ?it/s]"
     ]
    },
    {
     "name": "stdout",
     "output_type": "stream",
     "text": [
      "dict_keys(['p_1', 'p_3', 'p_4', 'p_2'])\n",
      "Min x : 817 Min y : 33 Max x : 3651 Max y : 2836\n",
      "Min x : 372 Min y : 384 Max x : 3200 Max y : 2351\n",
      "Slide Width : 2834 Slide Height : 2803 Sliding : 512\n",
      "Slide Width : 2828 Slide Height : 1967 Sliding : 512\n"
     ]
    },
    {
     "name": "stderr",
     "output_type": "stream",
     "text": [
      "  0%|          | 0/86 [00:00<?, ?it/s]"
     ]
    },
    {
     "name": "stdout",
     "output_type": "stream",
     "text": [
      "SIZE_PATCH_0 : 1024 SIZE_PATCH_2 : 64 SIZE_PATCH_ORIGIN : 514.1504\n",
      "dict_keys(['p_1', 'p_2', 'p_3', 'p_4'])\n",
      "SIZE_PATCH_0 : 1024 SIZE_PATCH_2 : 64 SIZE_PATCH_ORIGIN : 514.3552\n",
      "dict_keys(['p_1', 'p_3', 'p_4', 'p_2'])\n",
      "Min x : 293 Min y : 127 Max x : 3501 Max y : 2590\n",
      "Slide Width : 3208 Slide Height : 2463 Sliding : 512\n",
      "Min x : 540 Min y : 930 Max x : 3390 Max y : 2771\n"
     ]
    },
    {
     "name": "stderr",
     "output_type": "stream",
     "text": [
      "\r",
      "  0%|          | 0/75 [00:00<?, ?it/s]"
     ]
    },
    {
     "name": "stdout",
     "output_type": "stream",
     "text": [
      "Slide Width : 2850 Slide Height : 1841 Sliding : 512\n"
     ]
    },
    {
     "name": "stderr",
     "output_type": "stream",
     "text": [
      "\r",
      "  0%|          | 0/56 [00:00<?, ?it/s]"
     ]
    },
    {
     "name": "stdout",
     "output_type": "stream",
     "text": [
      "SIZE_PATCH_0 : 1024 SIZE_PATCH_2 : 64 SIZE_PATCH_ORIGIN : 505.856\n",
      "SIZE_PATCH_0 : 1024 SIZE_PATCH_2 : 64 SIZE_PATCH_ORIGIN : 514.1504\n",
      "SIZE_PATCH_0 : 1024 SIZE_PATCH_2 : 64 SIZE_PATCH_ORIGIN : 514.3552\n",
      "dict_keys(['p_1', 'p_3', 'p_4', 'p_2'])\n",
      "dict_keys(['p_1', 'p_3', 'p_4', 'p_2'])\n",
      "dict_keys(['p_1', 'p_3', 'p_4', 'p_2'])\n",
      "SIZE_PATCH_0 : 1024 SIZE_PATCH_2 : 64 SIZE_PATCH_ORIGIN : 514.9696\n",
      "dict_keys(['p_1', 'p_3', 'p_4', 'p_2'])\n",
      "SIZE_PATCH_0 : 1024 SIZE_PATCH_2 : 64 SIZE_PATCH_ORIGIN : 514.2528\n",
      "dict_keys(['p_1', 'p_3', 'p_4', 'p_2'])\n",
      "Min x : 304 Min y : 393 Max x : 3838 Max y : 2827\n",
      "Min x : 679 Min y : 663 Max x : 3650 Max y : 2821\n",
      "Slide Width : 2971 Slide Height : 2158 Sliding : 512\n"
     ]
    },
    {
     "name": "stderr",
     "output_type": "stream",
     "text": [
      "\r",
      "  0%|          | 0/66 [00:00<?, ?it/s]"
     ]
    },
    {
     "name": "stdout",
     "output_type": "stream",
     "text": [
      "Min x : 162 Min y : 0 Max x : 3478 Max y : 2600\n",
      "Slide Width : 3534 Slide Height : 2434 Sliding : 512\n",
      "Slide Width : 3316 Slide Height : 2600 Sliding : 512\n"
     ]
    },
    {
     "name": "stderr",
     "output_type": "stream",
     "text": [
      "  0%|          | 0/75 [00:00<?, ?it/s]"
     ]
    },
    {
     "name": "stdout",
     "output_type": "stream",
     "text": [
      "Min x : 328 Min y : 230 Max x : 3073 Max y : 2479\n",
      "Slide Width : 2745 Slide Height : 2249 Sliding : 512\n"
     ]
    },
    {
     "name": "stderr",
     "output_type": "stream",
     "text": [
      "\r",
      "  0%|          | 0/69 [00:00<?, ?it/s]"
     ]
    },
    {
     "name": "stdout",
     "output_type": "stream",
     "text": [
      "Min x : 297 Min y : 57 Max x : 3485 Max y : 2878\n",
      "Slide Width : 3188 Slide Height : 2821 Sliding : 512\n",
      "SIZE_PATCH_0 : 1024 SIZE_PATCH_2 : 64 SIZE_PATCH_ORIGIN : 514.1504\n"
     ]
    },
    {
     "name": "stderr",
     "output_type": "stream",
     "text": [
      "\r",
      "  0%|          | 0/87 [00:00<?, ?it/s]"
     ]
    },
    {
     "name": "stdout",
     "output_type": "stream",
     "text": [
      "dict_keys(['p_1', 'p_3', 'p_4', 'p_2'])\n",
      "SIZE_PATCH_0 : 1024 SIZE_PATCH_2 : 64 SIZE_PATCH_ORIGIN : 514.1504\n",
      "dict_keys(['p_1', 'p_3', 'p_4', 'p_2'])\n",
      "Min x : 506 Min y : 8 Max x : 3222 Max y : 2700\n",
      "Slide Width : 2716 Slide Height : 2692 Sliding : 512\n"
     ]
    },
    {
     "name": "stderr",
     "output_type": "stream",
     "text": [
      "\r",
      "  0%|          | 0/83 [00:00<?, ?it/s]"
     ]
    },
    {
     "name": "stdout",
     "output_type": "stream",
     "text": [
      "Min x : 314 Min y : 613 Max x : 3741 Max y : 2823\n",
      "Slide Width : 3427 Slide Height : 2210 Sliding : 512\n"
     ]
    },
    {
     "name": "stderr",
     "output_type": "stream",
     "text": [
      "\r",
      "  0%|          | 0/68 [00:00<?, ?it/s]"
     ]
    },
    {
     "name": "stdout",
     "output_type": "stream",
     "text": [
      "SIZE_PATCH_0 : 1024 SIZE_PATCH_2 : 64 SIZE_PATCH_ORIGIN : 514.2528\n",
      "dict_keys(['p_1', 'p_3', 'p_4', 'p_2'])\n",
      "SIZE_PATCH_0 : 1024 SIZE_PATCH_2 : 64 SIZE_PATCH_ORIGIN : 514.2528\n",
      "dict_keys(['p_1', 'p_3', 'p_4', 'p_2'])\n",
      "Min x : 1309 Min y : 336 Max x : 4326 Max y : 2267\n",
      "Slide Width : 3017 Slide Height : 1931 Sliding : 512\n"
     ]
    },
    {
     "name": "stderr",
     "output_type": "stream",
     "text": [
      "\r",
      "  0%|          | 0/59 [00:00<?, ?it/s]"
     ]
    },
    {
     "name": "stdout",
     "output_type": "stream",
     "text": [
      "SIZE_PATCH_0 : 1024 SIZE_PATCH_2 : 64 SIZE_PATCH_ORIGIN : 505.856\n",
      "dict_keys(['p_1', 'p_3', 'p_4', 'p_2'])\n",
      "Min x : 496 Min y : 952 Max x : 3456 Max y : 2810\n"
     ]
    },
    {
     "name": "stderr",
     "output_type": "stream",
     "text": [
      "\r",
      "  1%|▏         | 1/75 [00:10<12:41, 10.30s/it]"
     ]
    },
    {
     "name": "stdout",
     "output_type": "stream",
     "text": [
      "Slide Width : 2960 Slide Height : 1858 Sliding : 512\n"
     ]
    },
    {
     "name": "stderr",
     "output_type": "stream",
     "text": [
      "\r",
      "  0%|          | 0/57 [00:00<?, ?it/s]"
     ]
    },
    {
     "name": "stdout",
     "output_type": "stream",
     "text": [
      "Min x : 1750 Min y : 260 Max x : 3835 Max y : 2921\n",
      "Slide Width : 2085 Slide Height : 2661 Sliding : 512\n",
      "SIZE_PATCH_0 : 1024 SIZE_PATCH_2 : 64 SIZE_PATCH_ORIGIN : 514.8672\n"
     ]
    },
    {
     "name": "stderr",
     "output_type": "stream",
     "text": [
      "\r",
      "  0%|          | 0/82 [00:00<?, ?it/s]"
     ]
    },
    {
     "name": "stdout",
     "output_type": "stream",
     "text": [
      "dict_keys(['p_1', 'p_3', 'p_4', 'p_2'])\n",
      "Min x : 482 Min y : 714 Max x : 3566 Max y : 2639\n",
      "Slide Width : 3084 Slide Height : 1925 Sliding : 512\n"
     ]
    },
    {
     "name": "stderr",
     "output_type": "stream",
     "text": [
      "  1%|          | 1/81 [00:17<23:30, 17.64s/it]"
     ]
    },
    {
     "name": "stdout",
     "output_type": "stream",
     "text": [
      "SIZE_PATCH_0 : 1024 SIZE_PATCH_2 : 64 SIZE_PATCH_ORIGIN : 514.1504\n",
      "dict_keys(['p_1', 'p_3', 'p_4', 'p_2'])\n",
      "SIZE_PATCH_0 : 1024 SIZE_PATCH_2 : 64 SIZE_PATCH_ORIGIN : 514.2528\n",
      "dict_keys(['p_1', 'p_3', 'p_4', 'p_2'])\n",
      "SIZE_PATCH_0 : 1024 SIZE_PATCH_2 : 64 SIZE_PATCH_ORIGIN : 514.3552\n",
      "dict_keys(['p_1', 'p_3', 'p_4', 'p_2'])\n",
      "Min x : 2377 Min y : 544 Max x : 5296 Max y : 2908\n",
      "Slide Width : 2919 Slide Height : 2364 Sliding : 512\n",
      "SIZE_PATCH_0 : 1024 SIZE_PATCH_2 : 64 SIZE_PATCH_ORIGIN : 514.2528\n",
      "dict_keys(['p_1', 'p_3', 'p_4', 'p_2'])\n"
     ]
    },
    {
     "name": "stderr",
     "output_type": "stream",
     "text": [
      "\r",
      "  0%|          | 0/72 [00:00<?, ?it/s]"
     ]
    },
    {
     "name": "stdout",
     "output_type": "stream",
     "text": [
      "Min x : 355 Min y : 874 Max x : 3026 Max y : 2397\n",
      "Min x : 317 Min y : 263 Max x : 3058 Max y : 2476\n",
      "Slide Width : 2741 Slide Height : 2213 Sliding : 512\n",
      "Slide Width : 2671 Slide Height : 1523 Sliding : 512\n"
     ]
    },
    {
     "name": "stderr",
     "output_type": "stream",
     "text": [
      "  2%|▏         | 2/81 [00:23<16:44, 12.71s/it]"
     ]
    },
    {
     "name": "stdout",
     "output_type": "stream",
     "text": [
      "SIZE_PATCH_0 : 1024 SIZE_PATCH_2 : 64 SIZE_PATCH_ORIGIN : 514.2528\n",
      "dict_keys(['p_1', 'p_3', 'p_4', 'p_2'])\n"
     ]
    },
    {
     "name": "stderr",
     "output_type": "stream",
     "text": [
      "\r",
      "  2%|▏         | 1/53 [00:19<17:06, 19.74s/it]"
     ]
    },
    {
     "name": "stdout",
     "output_type": "stream",
     "text": [
      "Min x : 2210 Min y : 322 Max x : 4990 Max y : 2395\n",
      "Slide Width : 2780 Slide Height : 2073 Sliding : 512\n"
     ]
    },
    {
     "name": "stderr",
     "output_type": "stream",
     "text": [
      "\r",
      "  0%|          | 0/63 [00:00<?, ?it/s]"
     ]
    },
    {
     "name": "stdout",
     "output_type": "stream",
     "text": [
      "Min x : 1202 Min y : 207 Max x : 4516 Max y : 2742\n",
      "Slide Width : 3314 Slide Height : 2535 Sliding : 512\n"
     ]
    },
    {
     "name": "stderr",
     "output_type": "stream",
     "text": [
      "  1%|▏         | 1/76 [00:21<26:39, 21.33s/it]"
     ]
    },
    {
     "name": "stdout",
     "output_type": "stream",
     "text": [
      "SIZE_PATCH_0 : 1024 SIZE_PATCH_2 : 64 SIZE_PATCH_ORIGIN : 514.2528\n",
      "SIZE_PATCH_0 : 1024 SIZE_PATCH_2 : 64 SIZE_PATCH_ORIGIN : 514.2528\n",
      "SIZE_PATCH_0 : 1024 SIZE_PATCH_2 : 64 SIZE_PATCH_ORIGIN : 514.2528\n",
      "dict_keys(['p_1', 'p_3', 'p_4', 'p_2'])\n",
      "dict_keys(['p_1', 'p_3', 'p_4', 'p_2'])\n",
      "dict_keys(['p_1', 'p_3', 'p_4', 'p_2'])\n",
      "Min x : 1927 Min y : 374 Max x : 4770 Max y : 2774\n",
      "Slide Width : 2843 Slide Height : 2400 Sliding : 512\n",
      "Min x : 1688 Min y : 309 Max x : 4931 Max y : 2278\n"
     ]
    },
    {
     "name": "stderr",
     "output_type": "stream",
     "text": [
      "\r",
      "  0%|          | 0/74 [00:00<?, ?it/s]"
     ]
    },
    {
     "name": "stdout",
     "output_type": "stream",
     "text": [
      "Slide Width : 3243 Slide Height : 1969 Sliding : 512\n"
     ]
    },
    {
     "name": "stderr",
     "output_type": "stream",
     "text": [
      "\r",
      "  0%|          | 0/60 [00:00<?, ?it/s]"
     ]
    },
    {
     "name": "stdout",
     "output_type": "stream",
     "text": [
      "Min x : 1604 Min y : 390 Max x : 4421 Max y : 2915\n",
      "Slide Width : 2817 Slide Height : 2525 Sliding : 512\n"
     ]
    },
    {
     "name": "stderr",
     "output_type": "stream",
     "text": [
      "\r",
      "  0%|          | 0/77 [00:00<?, ?it/s]"
     ]
    },
    {
     "name": "stdout",
     "output_type": "stream",
     "text": [
      "SIZE_PATCH_0 : 1024 SIZE_PATCH_2 : 64 SIZE_PATCH_ORIGIN : 514.2528\n",
      "dict_keys(['p_1', 'p_3', 'p_4', 'p_2'])\n"
     ]
    },
    {
     "name": "stderr",
     "output_type": "stream",
     "text": [
      "  1%|          | 1/86 [00:21<29:49, 21.05s/it]"
     ]
    },
    {
     "name": "stdout",
     "output_type": "stream",
     "text": [
      "SIZE_PATCH_0 : 1024 SIZE_PATCH_2 : 64 SIZE_PATCH_ORIGIN : 514.2528\n",
      "dict_keys(['p_1', 'p_3', 'p_4', 'p_2'])\n",
      "Min x : 1500 Min y : 105 Max x : 4487 Max y : 2699\n",
      "Slide Width : 2987 Slide Height : 2594 Sliding : 512\n"
     ]
    },
    {
     "name": "stderr",
     "output_type": "stream",
     "text": [
      "\r",
      "  0%|          | 0/80 [00:00<?, ?it/s]"
     ]
    },
    {
     "name": "stdout",
     "output_type": "stream",
     "text": [
      "SIZE_PATCH_0 : 1024 SIZE_PATCH_2 : 64 SIZE_PATCH_ORIGIN : 514.2528\n",
      "dict_keys(['p_1', 'p_3', 'p_4', 'p_2'])\n",
      "SIZE_PATCH_0 : 1024 SIZE_PATCH_2 : 64 SIZE_PATCH_ORIGIN : 514.2528\n",
      "dict_keys(['p_1', 'p_3', 'p_4', 'p_2'])\n",
      "SIZE_PATCH_0 : 1024 SIZE_PATCH_2 : 64 SIZE_PATCH_ORIGIN : 514.2528\n",
      "dict_keys(['p_1', 'p_3', 'p_4', 'p_2'])\n",
      "Min x : 1750 Min y : 0 Max x : 4665 Max y : 1431\n",
      "Slide Width : 2915 Slide Height : 1431 Sliding : 512\n"
     ]
    },
    {
     "name": "stderr",
     "output_type": "stream",
     "text": [
      "\r",
      "  0%|          | 0/43 [00:00<?, ?it/s]"
     ]
    },
    {
     "name": "stdout",
     "output_type": "stream",
     "text": [
      "Min x : 1516 Min y : 63 Max x : 4611 Max y : 2677\n",
      "Slide Width : 3095 Slide Height : 2614 Sliding : 512\n"
     ]
    },
    {
     "name": "stderr",
     "output_type": "stream",
     "text": [
      "\r",
      "  0%|          | 0/80 [00:00<?, ?it/s]"
     ]
    },
    {
     "name": "stdout",
     "output_type": "stream",
     "text": [
      "Min x : 1752 Min y : 461 Max x : 4450 Max y : 2082\n",
      "Slide Width : 2698 Slide Height : 1621 Sliding : 512\n"
     ]
    },
    {
     "name": "stderr",
     "output_type": "stream",
     "text": [
      "\r",
      "  0%|          | 0/49 [00:00<?, ?it/s]"
     ]
    },
    {
     "name": "stdout",
     "output_type": "stream",
     "text": [
      "Min x : 2119 Min y : 22 Max x : 5157 Max y : 2901\n",
      "Slide Width : 3038 Slide Height : 2879 Sliding : 512\n"
     ]
    },
    {
     "name": "stderr",
     "output_type": "stream",
     "text": [
      "\r",
      "  0%|          | 0/88 [00:00<?, ?it/s]"
     ]
    },
    {
     "name": "stdout",
     "output_type": "stream",
     "text": [
      "SIZE_PATCH_0 : 1024 SIZE_PATCH_2 : 64 SIZE_PATCH_ORIGIN : 514.2528\n",
      "SIZE_PATCH_0 : 1024 SIZE_PATCH_2 : 64 SIZE_PATCH_ORIGIN : 514.2528\n",
      "dict_keys(['p_1', 'p_2', 'p_3', 'p_4'])\n",
      "dict_keys(['p_1', 'p_3', 'p_4', 'p_2'])\n"
     ]
    },
    {
     "name": "stderr",
     "output_type": "stream",
     "text": [
      "  1%|          | 1/83 [00:18<25:52, 18.93s/it]"
     ]
    },
    {
     "name": "stdout",
     "output_type": "stream",
     "text": [
      "Min x : 3279 Min y : 170 Max x : 4672 Max y : 2854\n",
      "Slide Width : 1393 Slide Height : 2684 Sliding : 512\n",
      "SIZE_PATCH_0 : 1024 SIZE_PATCH_2 : 64 SIZE_PATCH_ORIGIN : 514.2528\n"
     ]
    },
    {
     "name": "stderr",
     "output_type": "stream",
     "text": [
      "\r",
      "  0%|          | 0/82 [00:00<?, ?it/s]"
     ]
    },
    {
     "name": "stdout",
     "output_type": "stream",
     "text": [
      "dict_keys(['p_1', 'p_3', 'p_4', 'p_2'])\n",
      "SIZE_PATCH_0 : 1024 SIZE_PATCH_2 : 64 SIZE_PATCH_ORIGIN : 514.2528\n",
      "dict_keys(['p_1', 'p_3', 'p_4', 'p_2'])\n"
     ]
    },
    {
     "name": "stderr",
     "output_type": "stream",
     "text": [
      "\r",
      "  1%|▏         | 1/75 [00:22<27:29, 22.28s/it]"
     ]
    },
    {
     "name": "stdout",
     "output_type": "stream",
     "text": [
      "Min x : 1691 Min y : 156 Max x : 4309 Max y : 2499\n",
      "Min x : 1359 Min y : 211 Max x : 4080 Max y : 2724\n",
      "Slide Width : 2721 Slide Height : 2513 Sliding : 512\n",
      "Slide Width : 2618 Slide Height : 2343 Sliding : 512\n"
     ]
    },
    {
     "name": "stderr",
     "output_type": "stream",
     "text": [
      "  2%|▏         | 1/60 [00:25<25:02, 25.47s/it]"
     ]
    },
    {
     "name": "stdout",
     "output_type": "stream",
     "text": [
      "SIZE_PATCH_0 : 1024 SIZE_PATCH_2 : 64 SIZE_PATCH_ORIGIN : 514.1504\n",
      "dict_keys(['p_1', 'p_3', 'p_4', 'p_2'])\n",
      "Min x : 2669 Min y : 466 Max x : 4706 Max y : 1933\n",
      "Slide Width : 2037 Slide Height : 1467 Sliding : 512\n"
     ]
    },
    {
     "name": "stderr",
     "output_type": "stream",
     "text": [
      "\r",
      "  0%|          | 0/44 [00:00<?, ?it/s]"
     ]
    },
    {
     "name": "stdout",
     "output_type": "stream",
     "text": [
      "Min x : 422 Min y : 878 Max x : 3911 Max y : 2827\n",
      "Slide Width : 3489 Slide Height : 1949 Sliding : 512\n"
     ]
    },
    {
     "name": "stderr",
     "output_type": "stream",
     "text": [
      "\r",
      "  0%|          | 0/59 [00:00<?, ?it/s]"
     ]
    },
    {
     "name": "stdout",
     "output_type": "stream",
     "text": [
      "SIZE_PATCH_0 : 1024 SIZE_PATCH_2 : 64 SIZE_PATCH_ORIGIN : 514.2528\n",
      "dict_keys(['p_1', 'p_3', 'p_4', 'p_2'])\n",
      "SIZE_PATCH_0 : 1024 SIZE_PATCH_2 : 64 SIZE_PATCH_ORIGIN : 514.3552\n",
      "SIZE_PATCH_0 : 1024 SIZE_PATCH_2 : 64 SIZE_PATCH_ORIGIN : 514.2528\n",
      "dict_keys(['p_1', 'p_3', 'p_4', 'p_2'])\n",
      "dict_keys(['p_1', 'p_3', 'p_4', 'p_2'])\n"
     ]
    },
    {
     "name": "stderr",
     "output_type": "stream",
     "text": [
      "\r",
      "  2%|▏         | 1/59 [00:20<19:50, 20.53s/it]"
     ]
    },
    {
     "name": "stdout",
     "output_type": "stream",
     "text": [
      "Min x : 1384 Min y : 1220 Max x : 4238 Max y : 2773\n",
      "Slide Width : 2854 Slide Height : 1553 Sliding : 512\n"
     ]
    },
    {
     "name": "stderr",
     "output_type": "stream",
     "text": [
      "\r",
      "  0%|          | 0/47 [00:00<?, ?it/s]"
     ]
    },
    {
     "name": "stdout",
     "output_type": "stream",
     "text": [
      "SIZE_PATCH_0 : 1024 SIZE_PATCH_2 : 64 SIZE_PATCH_ORIGIN : 514.2528\n",
      "dict_keys(['p_1', 'p_3', 'p_4', 'p_2'])\n",
      "Min x : 1134 Min y : 142 Max x : 3785 Max y : 2025\n",
      "Slide Width : 2651 Slide Height : 1883 Sliding : 512\n"
     ]
    },
    {
     "name": "stderr",
     "output_type": "stream",
     "text": [
      "\r",
      "  0%|          | 0/57 [00:00<?, ?it/s]"
     ]
    },
    {
     "name": "stdout",
     "output_type": "stream",
     "text": [
      "Min x : 1484 Min y : 953 Max x : 4816 Max y : 2571\n",
      "Slide Width : 3332 Slide Height : 1618 Sliding : 512\n"
     ]
    },
    {
     "name": "stderr",
     "output_type": "stream",
     "text": [
      "\r",
      "  0%|          | 0/49 [00:00<?, ?it/s]"
     ]
    },
    {
     "name": "stdout",
     "output_type": "stream",
     "text": [
      "Min x : 1197 Min y : 1089 Max x : 3985 Max y : 2347\n",
      "Slide Width : 2788 Slide Height : 1258 Sliding : 512\n"
     ]
    },
    {
     "name": "stderr",
     "output_type": "stream",
     "text": [
      " 51%|█████     | 30/59 [13:40<14:21, 29.70s/it]t]/tf/util/stain_normalization.py:87: RuntimeWarning: overflow encountered in exp\n",
      "  Inorm = np.multiply(Io, np.exp(-HERef.dot(C2)))\n",
      " 36%|███▋      | 31/85 [14:15<26:28, 29.41s/it]/tf/util/stain_normalization.py:44: RuntimeWarning: Degrees of freedom <= 0 for slice\n",
      "  eigvals, eigvecs = np.linalg.eigh(np.cov(ODhat.T))\n",
      "/usr/local/lib/python3.6/dist-packages/numpy/lib/function_base.py:2451: RuntimeWarning: divide by zero encountered in true_divide\n",
      "  c *= np.true_divide(1, fact)\n",
      "/usr/local/lib/python3.6/dist-packages/numpy/lib/function_base.py:2451: RuntimeWarning: invalid value encountered in multiply\n",
      "  c *= np.true_divide(1, fact)\n",
      " 87%|████████▋ | 71/82 [13:48<02:08, 11.67s/it]\n",
      "Process Process-116:\n",
      "Traceback (most recent call last):\n",
      "  File \"/usr/lib/python3.6/multiprocessing/process.py\", line 258, in _bootstrap\n",
      "    self.run()\n",
      "  File \"/usr/lib/python3.6/multiprocessing/process.py\", line 93, in run\n",
      "    self._target(*self._args, **self._kwargs)\n",
      "  File \"<ipython-input-23-53265e349245>\", line 3, in extract\n",
      "    slide.get_patch(save=True,tool='asap',feature='global')\n",
      "  File \"/tf/util/processor.py\", line 245, in get_patch\n",
      "    self.execute_patch(img_patch,p3_patch,patch_count,save_path,name='p3',show=show,save=save); patch_count+=1\n",
      "  File \"/tf/util/processor.py\", line 173, in execute_patch\n",
      "    norm_image = stain_norm(resize_image)\n",
      "  File \"/tf/util/stain_normalization.py\", line 44, in stain_norm\n",
      "    eigvals, eigvecs = np.linalg.eigh(np.cov(ODhat.T))\n",
      "  File \"/usr/local/lib/python3.6/dist-packages/numpy/linalg/linalg.py\", line 1456, in eigh\n",
      "    w, vt = gufunc(a, signature=signature, extobj=extobj)\n",
      "  File \"/usr/local/lib/python3.6/dist-packages/numpy/linalg/linalg.py\", line 103, in _raise_linalgerror_eigenvalues_nonconvergence\n",
      "    raise LinAlgError(\"Eigenvalues did not converge\")\n",
      "numpy.linalg.LinAlgError: Eigenvalues did not converge\n",
      "100%|██████████| 44/44 [16:49<00:00, 22.93s/it]  \n",
      "100%|██████████| 38/38 [21:44<00:00, 34.33s/it]  \n",
      "100%|██████████| 57/57 [24:40<00:00, 25.97s/it]\n",
      "100%|██████████| 49/49 [25:28<00:00, 31.19s/it]\n",
      "100%|██████████| 81/81 [26:57<00:00, 19.97s/it]\n",
      "100%|██████████| 59/59 [27:12<00:00, 27.66s/it]\n",
      "100%|██████████| 75/75 [27:58<00:00, 22.38s/it]\n",
      "100%|██████████| 62/62 [28:00<00:00, 27.10s/it]\n",
      "100%|██████████| 82/82 [27:52<00:00, 20.39s/it]\n",
      "100%|██████████| 53/53 [28:22<00:00, 32.11s/it]\n",
      "100%|██████████| 59/59 [28:18<00:00, 28.79s/it]\n",
      "100%|██████████| 68/68 [28:18<00:00, 24.98s/it]\n",
      "100%|██████████| 43/43 [28:17<00:00, 39.49s/it]\n",
      "100%|██████████| 49/49 [28:12<00:00, 34.54s/it]\n",
      "100%|██████████| 59/59 [29:26<00:00, 29.94s/it]\n",
      "100%|██████████| 72/72 [29:49<00:00, 24.85s/it]\n",
      "100%|██████████| 74/74 [29:55<00:00, 24.27s/it]\n",
      "100%|██████████| 63/63 [30:11<00:00, 28.76s/it]\n",
      "100%|██████████| 60/60 [30:47<00:00, 30.79s/it]\n",
      "100%|██████████| 80/80 [30:46<00:00, 23.08s/it]\n",
      "100%|██████████| 83/83 [31:46<00:00, 22.97s/it]\n",
      "100%|██████████| 57/57 [32:36<00:00, 34.33s/it]\n",
      "100%|██████████| 81/81 [32:54<00:00, 24.37s/it]\n",
      "100%|██████████| 46/46 [32:46<00:00, 42.76s/it]\n",
      "100%|██████████| 77/77 [32:50<00:00, 25.59s/it]\n",
      "100%|██████████| 66/66 [33:12<00:00, 30.20s/it]\n",
      "100%|██████████| 75/75 [33:52<00:00, 27.11s/it]\n",
      "100%|██████████| 85/85 [34:07<00:00, 24.09s/it]\n",
      "100%|██████████| 72/72 [33:57<00:00, 28.29s/it]\n",
      "100%|██████████| 86/86 [34:19<00:00, 23.95s/it]\n",
      "100%|██████████| 80/80 [34:01<00:00, 25.52s/it]\n",
      "100%|██████████| 78/78 [34:24<00:00, 26.47s/it]\n",
      "100%|██████████| 47/47 [34:11<00:00, 43.64s/it]\n",
      "100%|██████████| 76/76 [34:44<00:00, 27.43s/it]\n",
      "100%|██████████| 77/77 [34:42<00:00, 27.05s/it]\n",
      "100%|██████████| 60/60 [35:03<00:00, 35.07s/it]\n",
      "100%|██████████| 55/55 [35:51<00:00, 39.12s/it]\n",
      "100%|██████████| 68/68 [35:41<00:00, 31.50s/it]\n",
      "100%|██████████| 75/75 [35:49<00:00, 28.66s/it]\n",
      "100%|██████████| 56/56 [36:50<00:00, 39.47s/it]\n",
      "100%|██████████| 88/88 [37:12<00:00, 25.37s/it]\n",
      "100%|██████████| 87/87 [38:02<00:00, 26.23s/it]\n",
      "100%|██████████| 86/86 [38:17<00:00, 26.72s/it]\n",
      " 97%|█████████▋| 70/72 [38:28<00:23, 11.95s/it]/tf/util/stain_normalization.py:44: RuntimeWarning: Degrees of freedom <= 0 for slice\n",
      "  eigvals, eigvecs = np.linalg.eigh(np.cov(ODhat.T))\n",
      "/usr/local/lib/python3.6/dist-packages/numpy/lib/function_base.py:2451: RuntimeWarning: divide by zero encountered in true_divide\n",
      "  c *= np.true_divide(1, fact)\n",
      "/usr/local/lib/python3.6/dist-packages/numpy/lib/function_base.py:2451: RuntimeWarning: invalid value encountered in multiply\n",
      "  c *= np.true_divide(1, fact)\n",
      " 89%|████████▉ | 71/80 [38:27<04:52, 32.51s/it]\n",
      "Process Process-124:\n",
      "Traceback (most recent call last):\n",
      "  File \"/usr/lib/python3.6/multiprocessing/process.py\", line 258, in _bootstrap\n",
      "    self.run()\n",
      "  File \"/usr/lib/python3.6/multiprocessing/process.py\", line 93, in run\n",
      "    self._target(*self._args, **self._kwargs)\n",
      "  File \"<ipython-input-23-53265e349245>\", line 3, in extract\n",
      "    slide.get_patch(save=True,tool='asap',feature='global')\n",
      "  File \"/tf/util/processor.py\", line 249, in get_patch\n",
      "    self.execute_patch(img_patch,p4_patch,patch_count,save_path,name='p4',show=show,save=save); patch_count+=1\n",
      "  File \"/tf/util/processor.py\", line 173, in execute_patch\n",
      "    norm_image = stain_norm(resize_image)\n",
      "  File \"/tf/util/stain_normalization.py\", line 44, in stain_norm\n",
      "    eigvals, eigvecs = np.linalg.eigh(np.cov(ODhat.T))\n",
      "  File \"/usr/local/lib/python3.6/dist-packages/numpy/linalg/linalg.py\", line 1456, in eigh\n",
      "    w, vt = gufunc(a, signature=signature, extobj=extobj)\n",
      "  File \"/usr/local/lib/python3.6/dist-packages/numpy/linalg/linalg.py\", line 103, in _raise_linalgerror_eigenvalues_nonconvergence\n",
      "    raise LinAlgError(\"Eigenvalues did not converge\")\n",
      "numpy.linalg.LinAlgError: Eigenvalues did not converge\n",
      "100%|██████████| 72/72 [38:46<00:00, 32.31s/it]\n",
      "100%|██████████| 69/69 [39:28<00:00, 34.32s/it]\n",
      "100%|██████████| 73/73 [39:47<00:00, 32.70s/it]\n",
      "100%|██████████| 75/75 [41:54<00:00, 33.52s/it]\n"
     ]
    }
   ],
   "source": [
    "for patient_path in glob.glob('/data/PAIP/???'):\n",
    "    patch_exist = os.path.exists(os.path.join(patient_path,'patches'))\n",
    "    if patch_exist==False:\n",
    "        svs_path = glob.glob(os.path.join(patient_path,'*.svs'))[0]\n",
    "        xml_path = svs_path[:-4] + '_nerve.xml'\n",
    "        init_params.update({\n",
    "            'patient_path':patient_path,\n",
    "            'svs_path':svs_path,\n",
    "            'xml_path':xml_path,\n",
    "            'patch_name':'patches'\n",
    "        })\n",
    "        p = multiprocessing.Process(target = extract,args = (init_params,))\n",
    "        p.start()\n",
    "    else:\n",
    "        continue"
   ]
  },
  {
   "cell_type": "code",
   "execution_count": null,
   "metadata": {},
   "outputs": [],
   "source": []
  },
  {
   "cell_type": "code",
   "execution_count": 14,
   "metadata": {},
   "outputs": [
    {
     "name": "stdout",
     "output_type": "stream",
     "text": [
      "col 0021 True\n",
      "col 0001 True\n",
      "col 0002 False\n",
      "col 0003 True\n",
      "col 0004 False\n"
     ]
    }
   ],
   "source": [
    "for slide_path in glob.glob(glob_path+'*/*.svs')[:5]:\n",
    "    tissue=slide_path.split('/')[-2] ; num = slide_path[-8:-4]\n",
    "    t = os.path.exists('./patch_overlap_global_512_stain/' + tissue + '/' + num)\n",
    "    print(tissue,num,t)\n",
    "    "
   ]
  },
  {
   "cell_type": "code",
   "execution_count": null,
   "metadata": {},
   "outputs": [],
   "source": [
    "os.path.exists('./patch_overlap_global_512_stain/col/0001/')"
   ]
  },
  {
   "cell_type": "code",
   "execution_count": 11,
   "metadata": {},
   "outputs": [
    {
     "name": "stdout",
     "output_type": "stream",
     "text": [
      "SIZE_PATCH_0 : 1024 SIZE_PATCH_2 : 64 SIZE_PATCH_ORIGIN : 514.8672\n",
      "dict_keys(['p_1', 'p_2', 'p_3', 'p_4'])\n"
     ]
    },
    {
     "name": "stderr",
     "output_type": "stream",
     "text": [
      "\r",
      "  0%|          | 0/85 [00:00<?, ?it/s]"
     ]
    },
    {
     "name": "stdout",
     "output_type": "stream",
     "text": [
      "Min x : 146 Min y : 28 Max x : 3089 Max y : 2806\n",
      "Slide Width : 2943 Slide Height : 2778 Sliding : 512\n"
     ]
    },
    {
     "name": "stderr",
     "output_type": "stream",
     "text": [
      "100%|██████████| 85/85 [12:00<00:00,  8.48s/it]\n"
     ]
    }
   ],
   "source": [
    "slide.get_patch(save=True,tool='asap',feature='global')"
   ]
  },
  {
   "cell_type": "code",
   "execution_count": 9,
   "metadata": {
    "collapsed": true
   },
   "outputs": [
    {
     "name": "stderr",
     "output_type": "stream",
     "text": [
      "\r",
      "  0%|          | 0/174 [00:00<?, ?it/s]"
     ]
    },
    {
     "name": "stdout",
     "output_type": "stream",
     "text": [
      "SIZE_PATCH_0 : 512 SIZE_PATCH_2 : 32 SIZE_PATCH_ORIGIN : 257.0752\n",
      "dict_keys(['p_1', 'p_3', 'p_4', 'p_2'])\n",
      "Min x : 817 Min y : 33 Max x : 3651 Max y : 2836\n",
      "Slide Width : 2834 Slide Height : 2803 Sliding : 256\n"
     ]
    },
    {
     "name": "stderr",
     "output_type": "stream",
     "text": [
      "100%|██████████| 174/174 [06:19<00:00,  2.18s/it]\n"
     ]
    }
   ],
   "source": [
    "slide.patch_dir='./patch_local/'\n",
    "slide.get_patch(save=True,tool='asap',feature='local')"
   ]
  },
  {
   "cell_type": "code",
   "execution_count": 18,
   "metadata": {},
   "outputs": [
    {
     "name": "stdout",
     "output_type": "stream",
     "text": [
      "3527 3939 3591 4003 (64, 64)\n",
      "3559 3939 3623 4003 (64, 64)\n",
      "3527 3971 3591 4035 (64, 64)\n",
      "3559 3971 3623 4035 (64, 64)\n"
     ]
    }
   ],
   "source": [
    "min_x = 3527; min_y = 3939; multiple = 16;step = 0.5; s = int(step*1027); \n",
    "for y in range(2):\n",
    "    for x in range(2):\n",
    "        start_x = int(min_x+(s*x/multiple)); end_x = int(min_x+((s*(x+int(1/step))/multiple)))\n",
    "        start_y = int(min_y+(s*y/multiple)); end_y = int(min_y+((s*(y+int(1/step))/multiple)))\n",
    "        print(start_x,start_y, end_x, end_y,(end_y-start_y,end_x-start_x))"
   ]
  }
 ],
 "metadata": {
  "kernelspec": {
   "display_name": "Python 3",
   "language": "python",
   "name": "python3"
  },
  "language_info": {
   "codemirror_mode": {
    "name": "ipython",
    "version": 3
   },
   "file_extension": ".py",
   "mimetype": "text/x-python",
   "name": "python",
   "nbconvert_exporter": "python",
   "pygments_lexer": "ipython3",
   "version": "3.6.9"
  }
 },
 "nbformat": 4,
 "nbformat_minor": 2
}
