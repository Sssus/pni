{
 "cells": [
  {
   "cell_type": "markdown",
   "metadata": {},
   "source": [
    "## Evaluation\n",
    "### inference한 tif 파일과 slide image, annotation 의 path를 입력해서 evaluate"
   ]
  },
  {
   "cell_type": "code",
   "execution_count": null,
   "metadata": {},
   "outputs": [],
   "source": [
    "import tensorflow.keras.losses."
   ]
  },
  {
   "cell_type": "code",
   "execution_count": 31,
   "metadata": {},
   "outputs": [
    {
     "name": "stdout",
     "output_type": "stream",
     "text": [
      "absl-py==0.8.1\r\n",
      "alabaster==0.7.10\r\n",
      "albumentations==1.0.0\r\n",
      "anaconda-client==1.6.14\r\n",
      "anaconda-project==0.8.2\r\n",
      "asn1crypto==0.24.0\r\n",
      "astor==0.8.0\r\n",
      "astroid==1.6.3\r\n",
      "astropy==3.0.2\r\n",
      "attrs==18.1.0\r\n",
      "autovizwidget==0.13.1\r\n",
      "Babel==2.5.3\r\n",
      "backcall==0.1.0\r\n",
      "backports.shutil-get-terminal-size==1.0.0\r\n",
      "beautifulsoup4==4.6.0\r\n",
      "bitarray==0.8.1\r\n",
      "bkcharts==0.2\r\n",
      "blaze==0.11.3\r\n",
      "bleach==2.1.3\r\n",
      "bokeh==1.0.4\r\n",
      "boto==2.48.0\r\n",
      "boto3==1.10.19\r\n",
      "botocore==1.13.19\r\n",
      "Bottleneck==1.2.1\r\n",
      "cachetools==3.1.1\r\n",
      "certifi==2019.11.28\r\n",
      "cffi==1.11.5\r\n",
      "chardet==3.0.4\r\n",
      "click==6.7\r\n",
      "cloudpickle==0.5.3\r\n",
      "clyent==1.2.2\r\n",
      "colorama==0.3.9\r\n",
      "contextlib2==0.5.5\r\n",
      "cryptography==2.8\r\n",
      "cycler==0.10.0\r\n",
      "Cython==0.28.2\r\n",
      "cytoolz==0.9.0.1\r\n",
      "dask==2021.3.0\r\n",
      "datashape==0.5.4\r\n",
      "decorator==4.3.0\r\n",
      "defusedxml==0.6.0\r\n",
      "distributed==1.21.8\r\n",
      "docutils==0.14\r\n",
      "efficientnet==1.0.0\r\n",
      "entrypoints==0.2.3\r\n",
      "enum34==1.1.6\r\n",
      "environment-kernels==1.1.1\r\n",
      "et-xmlfile==1.0.1\r\n",
      "fastcache==1.0.2\r\n",
      "filelock==3.0.4\r\n",
      "Flask==1.0.2\r\n",
      "Flask-Cors==3.0.4\r\n",
      "future==0.18.2\r\n",
      "gast==0.2.2\r\n",
      "gevent==1.3.0\r\n",
      "glob2==0.6\r\n",
      "gmpy2==2.0.8\r\n",
      "google-auth==1.7.1\r\n",
      "google-auth-oauthlib==0.4.1\r\n",
      "google-pasta==0.1.8\r\n",
      "greenlet==0.4.13\r\n",
      "grpcio==1.25.0\r\n",
      "h5py==2.10.0\r\n",
      "hdijupyterutils==0.13.1\r\n",
      "heapdict==1.0.0\r\n",
      "horovod==0.16.4\r\n",
      "html5lib==1.0.1\r\n",
      "idna==2.6\r\n",
      "image-classifiers==1.0.0\r\n",
      "imageio==2.3.0\r\n",
      "imagesize==1.0.0\r\n",
      "ipykernel==4.8.2\r\n",
      "ipyparallel==6.2.2\r\n",
      "ipython==6.4.0\r\n",
      "ipython-genutils==0.2.0\r\n",
      "ipywidgets==7.2.1\r\n",
      "isort==4.3.4\r\n",
      "itsdangerous==0.24\r\n",
      "jdcal==1.4\r\n",
      "jedi==0.12.0\r\n",
      "Jinja2==2.10\r\n",
      "jmespath==0.9.4\r\n",
      "joblib==0.14.0\r\n",
      "jsonschema==2.6.0\r\n",
      "jupyter==1.0.0\r\n",
      "jupyter-client==5.2.3\r\n",
      "jupyter-console==5.2.0\r\n",
      "jupyter-core==4.4.0\r\n",
      "jupyterlab==0.32.1\r\n",
      "jupyterlab-launcher==0.10.5\r\n",
      "Keras==2.3.0\r\n",
      "Keras-Applications==1.0.8\r\n",
      "Keras-Preprocessing==1.1.0\r\n",
      "keras-tuner==1.0.1\r\n",
      "kiwisolver==1.0.1\r\n",
      "kt-legacy==1.0.3\r\n",
      "lazy-object-proxy==1.3.1\r\n",
      "livelossplot==0.5.4\r\n",
      "llvmlite==0.23.1\r\n",
      "locket==0.2.0\r\n",
      "lxml==4.2.1\r\n",
      "Markdown==3.1.1\r\n",
      "MarkupSafe==1.0\r\n",
      "matplotlib==3.1.2\r\n",
      "mccabe==0.6.1\r\n",
      "mistune==0.8.3\r\n",
      "mkl-fft==1.0.10\r\n",
      "mkl-random==1.0.2\r\n",
      "mock==3.0.5\r\n",
      "more-itertools==4.1.0\r\n",
      "mpmath==1.0.0\r\n",
      "msgpack==0.6.0\r\n",
      "msgpack-python==0.5.6\r\n",
      "multipledispatch==0.5.0\r\n",
      "nb-conda==2.2.1\r\n",
      "nb-conda-kernels==2.2.2\r\n",
      "nbconvert==5.4.1\r\n",
      "nbformat==4.4.0\r\n",
      "networkx==2.1\r\n",
      "nltk==3.3\r\n",
      "nose==1.3.7\r\n",
      "notebook==5.5.0\r\n",
      "numba==0.38.0\r\n",
      "numexpr==2.7.0\r\n",
      "numpy==1.16.4\r\n",
      "numpydoc==0.8.0\r\n",
      "oauthlib==3.1.0\r\n",
      "odo==0.5.1\r\n",
      "olefile==0.45.1\r\n",
      "opencv-python==4.5.2.54\r\n",
      "opencv-python-headless==4.5.2.54\r\n",
      "openpyxl==2.5.3\r\n",
      "openslide-python==1.1.2\r\n",
      "opt-einsum==3.1.0\r\n",
      "packaging==17.1\r\n",
      "pandas==0.24.2\r\n",
      "pandocfilters==1.4.2\r\n",
      "parso==0.2.0\r\n",
      "partd==0.3.8\r\n",
      "path.py==11.0.1\r\n",
      "pathlib2==2.3.2\r\n",
      "patsy==0.5.0\r\n",
      "pep8==1.7.1\r\n",
      "pexpect==4.5.0\r\n",
      "pickleshare==0.7.4\r\n",
      "Pillow==5.2.0\r\n",
      "pkginfo==1.4.2\r\n",
      "plotly==4.3.0\r\n",
      "pluggy==0.6.0\r\n",
      "ply==3.11\r\n",
      "prompt-toolkit==1.0.15\r\n",
      "protobuf==3.8.0\r\n",
      "protobuf3-to-dict==0.1.5\r\n",
      "psutil==5.4.5\r\n",
      "psycopg2==2.7.5\r\n",
      "ptyprocess==0.5.2\r\n",
      "py==1.5.3\r\n",
      "py4j==0.10.7\r\n",
      "pyasn1==0.4.8\r\n",
      "pyasn1-modules==0.2.7\r\n",
      "pycodestyle==2.4.0\r\n",
      "pycosat==0.6.3\r\n",
      "pycparser==2.18\r\n",
      "pycrypto==2.6.1\r\n",
      "pycurl==7.43.0.5\r\n",
      "pyflakes==1.6.0\r\n",
      "pygal==2.4.0\r\n",
      "Pygments==2.2.0\r\n",
      "pykerberos==1.2.1\r\n",
      "pylint==1.8.4\r\n",
      "pyodbc==4.0.23\r\n",
      "pyOpenSSL==18.0.0\r\n",
      "pyparsing==2.2.0\r\n",
      "PyQt5==5.12.3\r\n",
      "PyQt5-sip==4.19.18\r\n",
      "PyQtWebEngine==5.12.1\r\n",
      "PySocks==1.6.8\r\n",
      "pyspark==2.3.2\r\n",
      "pytest==3.5.1\r\n",
      "pytest-arraydiff==0.2\r\n",
      "pytest-astropy==0.3.0\r\n",
      "pytest-doctestplus==0.1.3\r\n",
      "pytest-openfiles==0.3.0\r\n",
      "pytest-remotedata==0.2.1\r\n",
      "python-dateutil==2.7.3\r\n",
      "pytz==2018.4\r\n",
      "PyWavelets==1.1.1\r\n",
      "PyYAML==3.12\r\n",
      "pyzmq==17.0.0\r\n",
      "QtAwesome==0.4.4\r\n",
      "qtconsole==4.3.1\r\n",
      "QtPy==1.4.1\r\n",
      "requests==2.23.0\r\n",
      "requests-kerberos==0.12.0\r\n",
      "requests-oauthlib==1.3.0\r\n",
      "retrying==1.3.3\r\n",
      "rope==0.10.7\r\n",
      "rsa==4.0\r\n",
      "ruamel-yaml==0.15.35\r\n",
      "s3fs==0.1.5\r\n",
      "s3transfer==0.2.1\r\n",
      "scikit-image==0.17.2\r\n",
      "scikit-learn==0.21.3\r\n",
      "scipy==1.4.1\r\n",
      "seaborn==0.8.1\r\n",
      "segmentation-models==1.0.1\r\n",
      "Send2Trash==1.5.0\r\n",
      "Shapely==1.7.1\r\n",
      "simplegeneric==0.8.1\r\n",
      "singledispatch==3.4.0.3\r\n",
      "six==1.14.0\r\n",
      "snowballstemmer==1.2.1\r\n",
      "sortedcollections==0.6.1\r\n",
      "sortedcontainers==1.5.10\r\n",
      "sparkmagic==0.12.5\r\n",
      "Sphinx==1.7.4\r\n",
      "sphinxcontrib-websupport==1.0.1\r\n",
      "spyder==3.2.8\r\n",
      "SQLAlchemy==1.2.7\r\n",
      "statsmodels==0.9.0\r\n",
      "sympy==1.1.1\r\n",
      "tables==3.5.2\r\n",
      "tabulate==0.8.9\r\n",
      "TBB==0.1\r\n",
      "tblib==1.3.2\r\n",
      "tensorboard==2.1.1\r\n",
      "tensorflow==2.1.0\r\n",
      "tensorflow-estimator==2.1.0\r\n",
      "tensorflow-gpu==2.1.0\r\n",
      "tensorflow-serving-api==2.1.0\r\n",
      "termcolor==1.1.0\r\n",
      "terminado==0.8.1\r\n",
      "terminaltables==3.1.0\r\n",
      "testpath==0.3.1\r\n",
      "tifffile==2020.9.3\r\n",
      "toolz==0.9.0\r\n",
      "tornado==5.0.2\r\n",
      "tqdm==4.61.1\r\n",
      "traitlets==4.3.2\r\n",
      "typing==3.6.4\r\n",
      "unicodecsv==0.14.1\r\n",
      "urllib3==1.22\r\n",
      "wcwidth==0.1.7\r\n",
      "webencodings==0.5.1\r\n",
      "Werkzeug==0.14.1\r\n",
      "widgetsnbextension==3.2.1\r\n",
      "wrapt==1.11.2\r\n",
      "xlrd==1.1.0\r\n",
      "XlsxWriter==1.0.4\r\n",
      "xlwt==1.3.0\r\n",
      "xmltodict==0.12.0\r\n",
      "zict==0.1.3\r\n"
     ]
    }
   ],
   "source": [
    "!pip freeze"
   ]
  },
  {
   "cell_type": "code",
   "execution_count": 1,
   "metadata": {},
   "outputs": [],
   "source": [
    "from util import processor\n",
    "from cfg import *\n",
    "from metric import *\n",
    "import matplotlib.pyplot as plt\n",
    "import cv2 as cv\n",
    "import os, glob"
   ]
  },
  {
   "cell_type": "code",
   "execution_count": 15,
   "metadata": {},
   "outputs": [],
   "source": [
    "def slide_f1_score(slide_path,anno_path,tif_path):\n",
    "    pr = cv.imread(tif_path,0)\n",
    "    #pr = (pr.astype(np.float32)/255.0).astype(np.uint8)\n",
    "    pr = pr.astype(np.uint8)\n",
    "    init_params.update({\n",
    "        'svs_path':slide_path,\n",
    "        'xml_path':anno_path\n",
    "    })\n",
    "    slide = processor(init_params)\n",
    "    masks = slide.get_anno_mask(tool='etc')\n",
    "    gt = (masks['p_2']/255.0).astype(np.uint8)\n",
    "    return compute_dist_f1_score(pr,gt)\n",
    "\n",
    "def mean_f1_score(slide_path_list,anno_path_list,tif_path_list):\n",
    "    '''\n",
    "    Evaluation을 할 wsi 이미지, annotation xml, tif 파일을 쌍으로 갖는 list를 입력하여 f1-score의 평균값을 반환합니다\n",
    "    '''\n",
    "    list_len = len(slide_path_list)\n",
    "    ret = 0\n",
    "    for i in range(list_len):\n",
    "        slide_score=slide_f1_score(slide_path_list[i],anno_path_list[i],tif_path_list[i])\n",
    "        print(slide_score)\n",
    "        ret+=slide_score\n",
    "    ret/= list_len\n",
    "    return ret"
   ]
  },
  {
   "cell_type": "code",
   "execution_count": 20,
   "metadata": {},
   "outputs": [],
   "source": [
    "img = cv.imread(tif_path_list[0],0)\n",
    "img2 = cv.imread(tif_path_list_2[0],0)"
   ]
  },
  {
   "cell_type": "code",
   "execution_count": 25,
   "metadata": {},
   "outputs": [
    {
     "name": "stdout",
     "output_type": "stream",
     "text": [
      "1 255\n"
     ]
    }
   ],
   "source": [
    "print(np.max(img),np.max(img2))"
   ]
  },
  {
   "cell_type": "code",
   "execution_count": 22,
   "metadata": {},
   "outputs": [
    {
     "data": {
      "text/plain": [
       "<matplotlib.image.AxesImage at 0x7fe7675fea90>"
      ]
     },
     "execution_count": 22,
     "metadata": {},
     "output_type": "execute_result"
    },
    {
     "data": {
      "image/png": "[encoded data removed]",
      "text/plain": [
       "<Figure size 432x288 with 1 Axes>"
      ]
     },
     "metadata": {},
     "output_type": "display_data"
    },
    {
     "data": {
      "image/png": "[encoded data removed]",
      "text/plain": [
       "<Figure size 432x288 with 1 Axes>"
      ]
     },
     "metadata": {},
     "output_type": "display_data"
    }
   ],
   "source": [
    "plt.figure(); plt.imshow(img[1250:1500,3300:3500])\n",
    "plt.figure(); plt.imshow(img2[1250:1500,3300:3500])"
   ]
  },
  {
   "cell_type": "code",
   "execution_count": 27,
   "metadata": {},
   "outputs": [
    {
     "name": "stdout",
     "output_type": "stream",
     "text": [
      "0.47058823529411764\n",
      "0.4444444444444444\n"
     ]
    }
   ],
   "source": [
    "print(slide_f1_score(svs_path_list[0],xml_path_list[0],tif_path_list[0]))\n",
    "print(slide_f1_score(svs_path_list[0],xml_path_list[0],tif_path_list_2[0]))"
   ]
  },
  {
   "cell_type": "code",
   "execution_count": 6,
   "metadata": {},
   "outputs": [
    {
     "name": "stdout",
     "output_type": "stream",
     "text": [
      "True /home/centos/data/paip/pros/Pros_PNI2021chall_train_0024.svs\n",
      "True /home/centos/data/paip/pros/Pros_PNI2021chall_train_0024.xml\n",
      "True /home/centos/jupyter/pathology/data/validation/Pros_PNI2021chall_train_0024.tif\n"
     ]
    }
   ],
   "source": [
    "tissue_name,patient_num = TEST_PATIENT_PATH[0].split('/')[-2:]\n",
    "base_dir = '/home/centos/data/paip/'\n",
    "tif_base_dir = '/home/centos/jupyter/pathology/data/validation/'\n",
    "svs_path = base_dir + f'{tissue_name}/{tissue_name.capitalize()}_PNI2021chall_train_{patient_num}.svs'\n",
    "xml_path = svs_path[:-3]+'xml'\n",
    "tif_path = tif_base_dir + f'{tissue_name.capitalize()}_PNI2021chall_train_{patient_num}.tif'\n",
    "print(os.path.exists(svs_path),svs_path)\n",
    "print(os.path.exists(xml_path),xml_path)\n",
    "print(os.path.exists(tif_path),tif_path)"
   ]
  },
  {
   "cell_type": "code",
   "execution_count": 29,
   "metadata": {},
   "outputs": [
    {
     "name": "stdout",
     "output_type": "stream",
     "text": [
      "30 30 30 30\n"
     ]
    }
   ],
   "source": [
    "base_dir = '/home/centos/data/paip/'\n",
    "tif_base_dir = '/home/centos/jupyter/pathology/results_dir/train/mixed/'\n",
    "tif_base_dir_2 = '/home/centos/jupyter/pathology/results_dir/train/nerve/'\n",
    "tif_base_dir_3 = '/home/centos/jupyter/pathology/results_dir/'\n",
    "svs_path_list = list(); xml_path_list = list(); tif_path_list = list(); tif_path_list_2 = list(); tif_path_list_3 = list()\n",
    "for d_path in TEST_PATIENT_PATH:\n",
    "    tissue_name,patient_num = d_path.split('/')[-2:]\n",
    "    svs_path = base_dir + f'{tissue_name}/{tissue_name.capitalize()}_PNI2021chall_train_{patient_num}.svs'\n",
    "    xml_path = svs_path[:-3]+'xml'\n",
    "    tif_path = tif_base_dir + f'{tissue_name.capitalize()}_PNI2021chall_train_{patient_num}.tif'\n",
    "    tif_path2 = tif_base_dir_2+f'{tissue_name.capitalize()}_PNI2021chall_train_{patient_num}.tif'\n",
    "    tif_path3 = tif_base_dir_3+f'{tissue_name.capitalize()}_PNI2021chall_train_{patient_num}.tif'\n",
    "    if os.path.exists(tif_path):\n",
    "        svs_path_list.append(svs_path)\n",
    "        xml_path_list.append(xml_path)\n",
    "        tif_path_list.append(tif_path)\n",
    "        tif_path_list_2.append(tif_path2)\n",
    "        tif_path_list_3.append(tif_path3)\n",
    "print(len(svs_path_list),len(tif_path_list),len(tif_path_list_2),len(tif_path_list_3))"
   ]
  },
  {
   "cell_type": "code",
   "execution_count": 31,
   "metadata": {},
   "outputs": [
    {
     "name": "stdout",
     "output_type": "stream",
     "text": [
      "/home/centos/data/paip/pros/Pros_PNI2021chall_train_0024.svs \n",
      " /home/centos/data/paip/pros/Pros_PNI2021chall_train_0024.xml \n",
      " /home/centos/jupyter/pathology/results_dir/train/mixed/Pros_PNI2021chall_train_0024.tif \n",
      " /home/centos/jupyter/pathology/results_dir/train/nerve/Pros_PNI2021chall_train_0024.tif\n"
     ]
    }
   ],
   "source": [
    "print(svs_path_list[0],'\\n',xml_path_list[0],'\\n',tif_path_list[0],'\\n',tif_path_list_2[0])"
   ]
  },
  {
   "cell_type": "code",
   "execution_count": 30,
   "metadata": {},
   "outputs": [
    {
     "name": "stdout",
     "output_type": "stream",
     "text": [
      "0.42857142857142855\n",
      "0.30000000000000004\n",
      "0.1\n",
      "0.19047619047619044\n",
      "0.20833333333333331\n",
      "0.25000000000000006\n",
      "0.2085889570552147\n",
      "0.3101604278074866\n",
      "0.40540540540540543\n",
      "0.2696629213483146\n",
      "0.13846153846153847\n",
      "0.08163265306122451\n",
      "0.14084507042253522\n",
      "0.5454545454545455\n",
      "0.1176470588235294\n",
      "0.13793103448275862\n",
      "0.0\n",
      "0.22222222222222218\n",
      "0.1111111111111111\n",
      "0.23529411764705882\n",
      "0.10576923076923077\n",
      "0.3706293706293707\n",
      "0.043478260869565216\n",
      "0.0909090909090909\n",
      "0.18181818181818182\n",
      "0.07142857142857142\n",
      "0.4383561643835616\n",
      "0.2837837837837838\n",
      "0.14814814814814814\n",
      "0.27777777777777773\n",
      "Overlap :  0.21379655320670596\n"
     ]
    }
   ],
   "source": [
    "print('Overlap : ',mean_f1_score(svs_path_list,xml_path_list,tif_path_list_3))"
   ]
  },
  {
   "cell_type": "code",
   "execution_count": 32,
   "metadata": {},
   "outputs": [
    {
     "name": "stdout",
     "output_type": "stream",
     "text": [
      "0.47058823529411764\n",
      "0.34782608695652173\n",
      "0.0\n",
      "0.2\n",
      "0.3333333333333333\n",
      "0.4444444444444445\n",
      "0.3541666666666667\n",
      "0.5555555555555556\n",
      "0.39999999999999997\n",
      "0.43902439024390244\n",
      "0.28571428571428575\n",
      "0.0\n",
      "0.13793103448275862\n",
      "0.5333333333333333\n",
      "0.4\n",
      "0.2608695652173913\n",
      "0.0\n",
      "0.1818181818181818\n",
      "0.09090909090909091\n",
      "0.11764705882352941\n",
      "0.06811145510835913\n",
      "0.33333333333333337\n",
      "0.13333333333333333\n",
      "0.1739130434782609\n",
      "0.24242424242424246\n",
      "0.0\n",
      "0.43373493975903615\n",
      "0.2580645161290322\n",
      "0.4375\n",
      "0.5\n",
      "MIX :  0.271119204211957\n"
     ]
    }
   ],
   "source": [
    "print('MIX : ',mean_f1_score(svs_path_list,xml_path_list,tif_path_list))\n"
   ]
  },
  {
   "cell_type": "code",
   "execution_count": 34,
   "metadata": {},
   "outputs": [
    {
     "name": "stdout",
     "output_type": "stream",
     "text": [
      "0.4444444444444444\n",
      "0.2777777777777778\n",
      "0.2\n",
      "0.19354838709677416\n",
      "0.33333333333333337\n",
      "0.4313725490196079\n",
      "0.2905982905982906\n",
      "0.5494505494505494\n",
      "0.39999999999999997\n",
      "0.3448275862068965\n",
      "0.3373493975903615\n",
      "0.07142857142857142\n",
      "0.11538461538461536\n",
      "0.5333333333333333\n",
      "0.4\n",
      "0.21428571428571425\n",
      "0.0\n",
      "0.15384615384615385\n",
      "0.09090909090909091\n",
      "0.1\n",
      "0.06727828746177371\n",
      "0.35714285714285715\n",
      "0.09090909090909091\n",
      "0.14035087719298245\n",
      "0.37499999999999994\n",
      "0.0\n",
      "0.45652173913043476\n",
      "0.2903225806451613\n",
      "0.34615384615384615\n",
      "0.32258064516129037\n",
      "NOT MIX :  0.26427165728343166\n"
     ]
    }
   ],
   "source": [
    "print('NOT MIX : ',mean_f1_score(svs_path_list,xml_path_list,tif_path_list_2))\n"
   ]
  },
  {
   "cell_type": "code",
   "execution_count": 24,
   "metadata": {},
   "outputs": [
    {
     "name": "stdout",
     "output_type": "stream",
     "text": [
      "0\n",
      "1\n",
      "2\n",
      "3\n"
     ]
    }
   ],
   "source": [
    "for i in np.arange(0,4,1):\n",
    "    print(i)"
   ]
  },
  {
   "cell_type": "code",
   "execution_count": 34,
   "metadata": {},
   "outputs": [
    {
     "data": {
      "text/plain": [
       "6.719583837358118e-07"
      ]
     },
     "execution_count": 34,
     "metadata": {},
     "output_type": "execute_result"
    }
   ],
   "source": [
    "\n",
    "img = cv.imread('./results_dir/test/mixed/Pros_PNI2021chall_test_0012.tif')\n",
    "np.mean(img)"
   ]
  },
  {
   "cell_type": "code",
   "execution_count": 31,
   "metadata": {},
   "outputs": [
    {
     "name": "stdout",
     "output_type": "stream",
     "text": [
      "(2, 2)\n"
     ]
    },
    {
     "data": {
      "text/plain": [
       "array([[1., 2., 2., 1.],\n",
       "       [0., 1., 1., 1.],\n",
       "       [0., 0., 0., 0.],\n",
       "       [0., 0., 0., 0.]])"
      ]
     },
     "execution_count": 31,
     "metadata": {},
     "output_type": "execute_result"
    },
    {
     "data": {
      "image/png": "[encoded data removed]",
      "text/plain": [
       "<Figure size 432x288 with 2 Axes>"
      ]
     },
     "metadata": {},
     "output_type": "display_data"
    },
    {
     "data": {
      "image/png": "[encoded data removed]",
      "text/plain": [
       "<Figure size 432x288 with 2 Axes>"
      ]
     },
     "metadata": {},
     "output_type": "display_data"
    },
    {
     "data": {
      "image/png": "[encoded data removed]",
      "text/plain": [
       "<Figure size 432x288 with 2 Axes>"
      ]
     },
     "metadata": {},
     "output_type": "display_data"
    }
   ],
   "source": [
    "mask = np.zeros((4,4))\n",
    "patch = np.array(((1,1),(0,1)))\n",
    "print(patch.shape)\n",
    "for i in np.arange(0,3,1):\n",
    "    mask[0:2,i:i+2] += patch\n",
    "    plt.figure()\n",
    "    plt.subplot(1,2,1); plt.imshow(mask)\n",
    "    plt.subplot(1,2,2); plt.imshow(patch)\n",
    "\n",
    "mask"
   ]
  },
  {
   "cell_type": "code",
   "execution_count": null,
   "metadata": {},
   "outputs": [],
   "source": [
    "print('NERVE : ',mean_f1_score(svs_path_list,xml_path_list,tif_path_list_2))"
   ]
  },
  {
   "cell_type": "code",
   "execution_count": 6,
   "metadata": {},
   "outputs": [
    {
     "name": "stdout",
     "output_type": "stream",
     "text": [
      "/home/centos/jupyter/pathology/results_dir/train/nerve/Pros_PNI2021chall_train_0024.tif\n",
      "/home/centos/jupyter/pathology/results_dir/train/nerve/Pan_PNI2021chall_train_0031.tif\n",
      "/home/centos/jupyter/pathology/results_dir/train/nerve/Col_PNI2021chall_train_0003.tif\n",
      "/home/centos/jupyter/pathology/results_dir/train/nerve/Pan_PNI2021chall_train_0036.tif\n",
      "/home/centos/jupyter/pathology/results_dir/train/nerve/Pan_PNI2021chall_train_0014.tif\n",
      "/home/centos/jupyter/pathology/results_dir/train/nerve/Pan_PNI2021chall_train_0007.tif\n",
      "/home/centos/jupyter/pathology/results_dir/train/nerve/Pros_PNI2021chall_train_0021.tif\n",
      "/home/centos/jupyter/pathology/results_dir/train/nerve/Pros_PNI2021chall_train_0034.tif\n",
      "/home/centos/jupyter/pathology/results_dir/train/nerve/Pros_PNI2021chall_train_0006.tif\n",
      "/home/centos/jupyter/pathology/results_dir/train/nerve/Pros_PNI2021chall_train_0009.tif\n",
      "/home/centos/jupyter/pathology/results_dir/train/nerve/Pan_PNI2021chall_train_0019.tif\n",
      "/home/centos/jupyter/pathology/results_dir/train/nerve/Col_PNI2021chall_train_0026.tif\n",
      "/home/centos/jupyter/pathology/results_dir/train/nerve/Col_PNI2021chall_train_0038.tif\n",
      "/home/centos/jupyter/pathology/results_dir/train/nerve/Pros_PNI2021chall_train_0045.tif\n",
      "/home/centos/jupyter/pathology/results_dir/train/nerve/Col_PNI2021chall_train_0006.tif\n",
      "/home/centos/jupyter/pathology/results_dir/train/nerve/Col_PNI2021chall_train_0028.tif\n",
      "/home/centos/jupyter/pathology/results_dir/train/nerve/Col_PNI2021chall_train_0007.tif\n",
      "/home/centos/jupyter/pathology/results_dir/train/nerve/Col_PNI2021chall_train_0022.tif\n",
      "/home/centos/jupyter/pathology/results_dir/train/nerve/Pros_PNI2021chall_train_0011.tif\n",
      "/home/centos/jupyter/pathology/results_dir/train/nerve/Pros_PNI2021chall_train_0041.tif\n",
      "/home/centos/jupyter/pathology/results_dir/train/nerve/Pros_PNI2021chall_train_0003.tif\n",
      "/home/centos/jupyter/pathology/results_dir/train/nerve/Pros_PNI2021chall_train_0018.tif\n",
      "/home/centos/jupyter/pathology/results_dir/train/nerve/Col_PNI2021chall_train_0049.tif\n",
      "/home/centos/jupyter/pathology/results_dir/train/nerve/Col_PNI2021chall_train_0043.tif\n",
      "/home/centos/jupyter/pathology/results_dir/train/nerve/Pan_PNI2021chall_train_0039.tif\n",
      "/home/centos/jupyter/pathology/results_dir/train/nerve/Pan_PNI2021chall_train_0005.tif\n",
      "/home/centos/jupyter/pathology/results_dir/train/nerve/Pan_PNI2021chall_train_0037.tif\n",
      "/home/centos/jupyter/pathology/results_dir/train/nerve/Pros_PNI2021chall_train_0049.tif\n",
      "/home/centos/jupyter/pathology/results_dir/train/nerve/Pan_PNI2021chall_train_0035.tif\n",
      "/home/centos/jupyter/pathology/results_dir/train/nerve/Pan_PNI2021chall_train_0033.tif\n"
     ]
    }
   ],
   "source": [
    "for fpath in tif_path_list_2:\n",
    "    print(fpath)"
   ]
  },
  {
   "cell_type": "code",
   "execution_count": 8,
   "metadata": {},
   "outputs": [
    {
     "data": {
      "text/plain": [
       "{'level': 2,\n",
       " 'overlap': 0.5,\n",
       " 'patch_size': 512,\n",
       " 'patch_dir': './patch_overlap_global_512_stain/'}"
      ]
     },
     "execution_count": 8,
     "metadata": {},
     "output_type": "execute_result"
    }
   ],
   "source": [
    "init_params"
   ]
  },
  {
   "cell_type": "code",
   "execution_count": 9,
   "metadata": {},
   "outputs": [],
   "source": [
    "init_params.update({'svs_path':svs_path,'xml_path':xml_path})\n",
    "slide = processor(init_params)"
   ]
  },
  {
   "cell_type": "code",
   "execution_count": 10,
   "metadata": {},
   "outputs": [],
   "source": [
    "msk = slide.get_tissue_mask()"
   ]
  },
  {
   "cell_type": "code",
   "execution_count": 12,
   "metadata": {},
   "outputs": [],
   "source": [
    "cnts = cv.findContours(msk.astype(np.uint8), cv.RETR_EXTERNAL,cv.CHAIN_APPROX_SIMPLE)[0]"
   ]
  },
  {
   "cell_type": "code",
   "execution_count": 13,
   "metadata": {},
   "outputs": [
    {
     "data": {
      "text/plain": [
       "248"
      ]
     },
     "execution_count": 13,
     "metadata": {},
     "output_type": "execute_result"
    }
   ],
   "source": [
    "len(cnts)"
   ]
  },
  {
   "cell_type": "code",
   "execution_count": 27,
   "metadata": {},
   "outputs": [
    {
     "name": "stdout",
     "output_type": "stream",
     "text": [
      "/home/centos/data/paip/pan/Pan_PNI2021chall_train_0031.svs \n",
      " /home/centos/data/paip/pan/Pan_PNI2021chall_train_0031.xml\n",
      "0.30000000000000004\n",
      "0.34782608695652173\n",
      "0.2777777777777778\n"
     ]
    }
   ],
   "source": [
    "tif_path = '/home/centos/jupyter/pathology/results_dir/Pan_PNI2021chall_train_0031.tif'\n",
    "fname = tif_path.split('/')[-1]\n",
    "tif_path2 = f'/home/centos/jupyter/pathology/results_dir/train/mixed/{fname}'\n",
    "tif_path3 = f'/home/centos/jupyter/pathology/results_dir/train/nerve/{fname}'\n",
    "tissue_name = tif_path.split('/')[-1].split('_')[0] ; patient_num = tif_path[-8:-4]\n",
    "svs_path = f'/home/centos/data/paip/{tissue_name.lower()}/{tissue_name}_PNI2021chall_train_{patient_num}.svs'\n",
    "xml_path = svs_path[:-3]+'xml'\n",
    "if os.path.exists(svs_path):\n",
    "    print(svs_path,'\\n',xml_path)\n",
    "print(slide_f1_score(svs_path,xml_path,tif_path))\n",
    "print(slide_f1_score(svs_path,xml_path,tif_path2))\n",
    "print(slide_f1_score(svs_path,xml_path,tif_path3))"
   ]
  }
 ],
 "metadata": {
  "kernelspec": {
   "display_name": "Environment (conda_tensorflow2_p36)",
   "language": "python",
   "name": "conda_tensorflow2_p36"
  },
  "language_info": {
   "codemirror_mode": {
    "name": "ipython",
    "version": 3
   },
   "file_extension": ".py",
   "mimetype": "text/x-python",
   "name": "python",
   "nbconvert_exporter": "python",
   "pygments_lexer": "ipython3",
   "version": "3.6.10"
  }
 },
 "nbformat": 4,
 "nbformat_minor": 2
}
