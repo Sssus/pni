{
 "cells": [
  {
   "cell_type": "code",
   "execution_count": 1,
   "metadata": {},
   "outputs": [],
   "source": [
    "from util import processor\n",
    "import numpy as np\n",
    "import cv2 as cv\n",
    "import matplotlib.pyplot as plt\n",
    "import tqdm, glob, os"
   ]
  },
  {
   "cell_type": "code",
   "execution_count": 2,
   "metadata": {},
   "outputs": [],
   "source": [
    "import multiprocessing"
   ]
  },
  {
   "cell_type": "code",
   "execution_count": 3,
   "metadata": {},
   "outputs": [],
   "source": [
    "def extract(init_params):\n",
    "    slide = processor(init_params)\n",
    "    slide.get_patch(save=True,size_patch_lv0=PATCH_LV0)"
   ]
  },
  {
   "cell_type": "code",
   "execution_count": 4,
   "metadata": {},
   "outputs": [],
   "source": [
    "from cfg import init_params,GLOB_PATH"
   ]
  },
  {
   "cell_type": "code",
   "execution_count": 11,
   "metadata": {},
   "outputs": [
    {
     "name": "stdout",
     "output_type": "stream",
     "text": [
      "['../../new_data/paip/col/Col_PNI2021chall_train_0001.svs']\n"
     ]
    },
    {
     "ename": "OSError",
     "evalue": "Error reading file '../../new_data/paip/pros/Pros_PNI2021chall_train_0005.xml': failed to load external entity \"../../new_data/paip/pros/Pros_PNI2021chall_train_0005.xml\"",
     "output_type": "error",
     "traceback": [
      "\u001b[0;31m---------------------------------------------------------------------------\u001b[0m",
      "\u001b[0;31mOSError\u001b[0m                                   Traceback (most recent call last)",
      "\u001b[0;32m<ipython-input-11-df658c28a271>\u001b[0m in \u001b[0;36m<module>\u001b[0;34m()\u001b[0m\n\u001b[1;32m      7\u001b[0m         \u001b[0;34m'overlap'\u001b[0m\u001b[0;34m:\u001b[0m\u001b[0;36m0.5\u001b[0m\u001b[0;34m,\u001b[0m\u001b[0;34m\u001b[0m\u001b[0;34m\u001b[0m\u001b[0m\n\u001b[1;32m      8\u001b[0m         \u001b[0;34m'patch_size'\u001b[0m\u001b[0;34m:\u001b[0m\u001b[0;36m512\u001b[0m\u001b[0;34m,\u001b[0m\u001b[0;34m\u001b[0m\u001b[0;34m\u001b[0m\u001b[0m\n\u001b[0;32m----> 9\u001b[0;31m         \u001b[0;34m'patch_dir'\u001b[0m\u001b[0;34m:\u001b[0m\u001b[0;34m'./data/img/patch_overlap_global_512/'\u001b[0m\u001b[0;34m\u001b[0m\u001b[0;34m\u001b[0m\u001b[0m\n\u001b[0m\u001b[1;32m     10\u001b[0m })\n\u001b[1;32m     11\u001b[0m \u001b[0mslide\u001b[0m\u001b[0;34m.\u001b[0m\u001b[0mget_patch\u001b[0m\u001b[0;34m(\u001b[0m\u001b[0msave\u001b[0m\u001b[0;34m=\u001b[0m\u001b[0;32mTrue\u001b[0m\u001b[0;34m,\u001b[0m\u001b[0mtool\u001b[0m\u001b[0;34m=\u001b[0m\u001b[0;34m'asap'\u001b[0m\u001b[0;34m,\u001b[0m\u001b[0mfeature\u001b[0m\u001b[0;34m=\u001b[0m\u001b[0;34m'global'\u001b[0m\u001b[0;34m)\u001b[0m\u001b[0;34m\u001b[0m\u001b[0;34m\u001b[0m\u001b[0m\n",
      "\u001b[0;32m~/jupyter/pathology/util.py\u001b[0m in \u001b[0;36m__init__\u001b[0;34m(self, init_params)\u001b[0m\n\u001b[1;32m     14\u001b[0m     \u001b[0;32mdef\u001b[0m \u001b[0m__init__\u001b[0m\u001b[0;34m(\u001b[0m\u001b[0mself\u001b[0m\u001b[0;34m,\u001b[0m\u001b[0minit_params\u001b[0m\u001b[0;34m)\u001b[0m\u001b[0;34m:\u001b[0m\u001b[0;34m\u001b[0m\u001b[0;34m\u001b[0m\u001b[0m\n\u001b[1;32m     15\u001b[0m         \u001b[0mself\u001b[0m\u001b[0;34m.\u001b[0m\u001b[0mslide_path\u001b[0m \u001b[0;34m=\u001b[0m \u001b[0minit_params\u001b[0m\u001b[0;34m[\u001b[0m\u001b[0;34m'svs_path'\u001b[0m\u001b[0;34m]\u001b[0m\u001b[0;34m\u001b[0m\u001b[0;34m\u001b[0m\u001b[0m\n\u001b[0;32m---> 16\u001b[0;31m         \u001b[0mself\u001b[0m\u001b[0;34m.\u001b[0m\u001b[0mannotation\u001b[0m \u001b[0;34m=\u001b[0m \u001b[0;34m''\u001b[0m \u001b[0;32mif\u001b[0m \u001b[0minit_params\u001b[0m\u001b[0;34m[\u001b[0m\u001b[0;34m'xml_path'\u001b[0m\u001b[0;34m]\u001b[0m\u001b[0;34m==\u001b[0m\u001b[0;34m''\u001b[0m \u001b[0;32melse\u001b[0m \u001b[0metree\u001b[0m\u001b[0;34m.\u001b[0m\u001b[0mparse\u001b[0m\u001b[0;34m(\u001b[0m\u001b[0minit_params\u001b[0m\u001b[0;34m[\u001b[0m\u001b[0;34m'xml_path'\u001b[0m\u001b[0;34m]\u001b[0m\u001b[0;34m)\u001b[0m\u001b[0;34m\u001b[0m\u001b[0;34m\u001b[0m\u001b[0m\n\u001b[0m\u001b[1;32m     17\u001b[0m         \u001b[0mself\u001b[0m\u001b[0;34m.\u001b[0m\u001b[0mlevel\u001b[0m \u001b[0;34m=\u001b[0m \u001b[0minit_params\u001b[0m\u001b[0;34m[\u001b[0m\u001b[0;34m'level'\u001b[0m\u001b[0;34m]\u001b[0m\u001b[0;34m\u001b[0m\u001b[0;34m\u001b[0m\u001b[0m\n\u001b[1;32m     18\u001b[0m         \u001b[0mself\u001b[0m\u001b[0;34m.\u001b[0m\u001b[0moverlap\u001b[0m \u001b[0;34m=\u001b[0m \u001b[0minit_params\u001b[0m\u001b[0;34m[\u001b[0m\u001b[0;34m'overlap'\u001b[0m\u001b[0;34m]\u001b[0m \u001b[0;31m# patch overlap rate\u001b[0m\u001b[0;34m\u001b[0m\u001b[0;34m\u001b[0m\u001b[0m\n",
      "\u001b[0;32msrc/lxml/etree.pyx\u001b[0m in \u001b[0;36mlxml.etree.parse\u001b[0;34m()\u001b[0m\n",
      "\u001b[0;32msrc/lxml/parser.pxi\u001b[0m in \u001b[0;36mlxml.etree._parseDocument\u001b[0;34m()\u001b[0m\n",
      "\u001b[0;32msrc/lxml/parser.pxi\u001b[0m in \u001b[0;36mlxml.etree._parseDocumentFromURL\u001b[0;34m()\u001b[0m\n",
      "\u001b[0;32msrc/lxml/parser.pxi\u001b[0m in \u001b[0;36mlxml.etree._parseDocFromFile\u001b[0;34m()\u001b[0m\n",
      "\u001b[0;32msrc/lxml/parser.pxi\u001b[0m in \u001b[0;36mlxml.etree._BaseParser._parseDocFromFile\u001b[0;34m()\u001b[0m\n",
      "\u001b[0;32msrc/lxml/parser.pxi\u001b[0m in \u001b[0;36mlxml.etree._ParserContext._handleParseResultDoc\u001b[0;34m()\u001b[0m\n",
      "\u001b[0;32msrc/lxml/parser.pxi\u001b[0m in \u001b[0;36mlxml.etree._handleParseResult\u001b[0;34m()\u001b[0m\n",
      "\u001b[0;32msrc/lxml/parser.pxi\u001b[0m in \u001b[0;36mlxml.etree._raiseParseError\u001b[0;34m()\u001b[0m\n",
      "\u001b[0;31mOSError\u001b[0m: Error reading file '../../new_data/paip/pros/Pros_PNI2021chall_train_0005.xml': failed to load external entity \"../../new_data/paip/pros/Pros_PNI2021chall_train_0005.xml\""
     ]
    }
   ],
   "source": [
    "glob_path = '../../new_data/paip/'\n",
    "print(glob.glob(glob_path+'*/*.svs')[1:2])\n",
    "slide =processor({\n",
    "        'svs_path':f'../../new_data/paip/pros/Pros_PNI2021chall_train_0005.svs',\n",
    "        'xml_path':f'../../new_data/paip/pros/Pros_PNI2021chall_train_0005.xml',\n",
    "        'level':2,\n",
    "        'overlap':0.5,\n",
    "        'patch_size':512,\n",
    "        'patch_dir':'./data/img/patch_overlap_global_512/'\n",
    "})\n",
    "slide.get_patch(save=True,tool='asap',feature='global')"
   ]
  },
  {
   "cell_type": "code",
   "execution_count": 14,
   "metadata": {},
   "outputs": [
    {
     "name": "stdout",
     "output_type": "stream",
     "text": [
      "col 0021 True\n",
      "col 0001 True\n",
      "col 0002 False\n",
      "col 0003 True\n",
      "col 0004 False\n"
     ]
    }
   ],
   "source": [
    "for slide_path in glob.glob(glob_path+'*/*.svs')[:5]:\n",
    "    tissue=slide_path.split('/')[-2] ; num = slide_path[-8:-4]\n",
    "    t = os.path.exists('./patch_overlap_global_512_stain/' + tissue + '/' + num)\n",
    "    print(tissue,num,t)\n",
    "    "
   ]
  },
  {
   "cell_type": "code",
   "execution_count": null,
   "metadata": {},
   "outputs": [],
   "source": [
    "os.path.exists('./patch_overlap_global_512_stain/col/0001/')"
   ]
  },
  {
   "cell_type": "code",
   "execution_count": 11,
   "metadata": {},
   "outputs": [
    {
     "name": "stdout",
     "output_type": "stream",
     "text": [
      "SIZE_PATCH_0 : 1024 SIZE_PATCH_2 : 64 SIZE_PATCH_ORIGIN : 514.8672\n",
      "dict_keys(['p_1', 'p_2', 'p_3', 'p_4'])\n"
     ]
    },
    {
     "name": "stderr",
     "output_type": "stream",
     "text": [
      "\r",
      "  0%|          | 0/85 [00:00<?, ?it/s]"
     ]
    },
    {
     "name": "stdout",
     "output_type": "stream",
     "text": [
      "Min x : 146 Min y : 28 Max x : 3089 Max y : 2806\n",
      "Slide Width : 2943 Slide Height : 2778 Sliding : 512\n"
     ]
    },
    {
     "name": "stderr",
     "output_type": "stream",
     "text": [
      "100%|██████████| 85/85 [12:00<00:00,  8.48s/it]\n"
     ]
    }
   ],
   "source": [
    "slide.get_patch(save=True,tool='asap',feature='global')"
   ]
  },
  {
   "cell_type": "code",
   "execution_count": 9,
   "metadata": {
    "collapsed": true
   },
   "outputs": [
    {
     "name": "stderr",
     "output_type": "stream",
     "text": [
      "\r",
      "  0%|          | 0/174 [00:00<?, ?it/s]"
     ]
    },
    {
     "name": "stdout",
     "output_type": "stream",
     "text": [
      "SIZE_PATCH_0 : 512 SIZE_PATCH_2 : 32 SIZE_PATCH_ORIGIN : 257.0752\n",
      "dict_keys(['p_1', 'p_3', 'p_4', 'p_2'])\n",
      "Min x : 817 Min y : 33 Max x : 3651 Max y : 2836\n",
      "Slide Width : 2834 Slide Height : 2803 Sliding : 256\n"
     ]
    },
    {
     "name": "stderr",
     "output_type": "stream",
     "text": [
      "100%|██████████| 174/174 [06:19<00:00,  2.18s/it]\n"
     ]
    }
   ],
   "source": [
    "slide.patch_dir='./patch_local/'\n",
    "slide.get_patch(save=True,tool='asap',feature='local')"
   ]
  },
  {
   "cell_type": "code",
   "execution_count": 18,
   "metadata": {},
   "outputs": [
    {
     "name": "stdout",
     "output_type": "stream",
     "text": [
      "3527 3939 3591 4003 (64, 64)\n",
      "3559 3939 3623 4003 (64, 64)\n",
      "3527 3971 3591 4035 (64, 64)\n",
      "3559 3971 3623 4035 (64, 64)\n"
     ]
    }
   ],
   "source": [
    "min_x = 3527; min_y = 3939; multiple = 16;step = 0.5; s = int(step*1027); \n",
    "for y in range(2):\n",
    "    for x in range(2):\n",
    "        start_x = int(min_x+(s*x/multiple)); end_x = int(min_x+((s*(x+int(1/step))/multiple)))\n",
    "        start_y = int(min_y+(s*y/multiple)); end_y = int(min_y+((s*(y+int(1/step))/multiple)))\n",
    "        print(start_x,start_y, end_x, end_y,(end_y-start_y,end_x-start_x))"
   ]
  }
 ],
 "metadata": {
  "kernelspec": {
   "display_name": "Environment (conda_tensorflow2_p36)",
   "language": "python",
   "name": "conda_tensorflow2_p36"
  },
  "language_info": {
   "codemirror_mode": {
    "name": "ipython",
    "version": 3
   },
   "file_extension": ".py",
   "mimetype": "text/x-python",
   "name": "python",
   "nbconvert_exporter": "python",
   "pygments_lexer": "ipython3",
   "version": "3.6.10"
  }
 },
 "nbformat": 4,
 "nbformat_minor": 2
}
